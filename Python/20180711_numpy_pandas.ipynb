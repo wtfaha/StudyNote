{
 "cells": [
  {
   "cell_type": "markdown",
   "metadata": {
    "collapsed": true
   },
   "source": [
    "# Numpy \n",
    "*****\n",
    "#### 可使用在矩陣運算、線性代數、矩陣乘法、轉置、數學運算、統計運算...等\n",
    "[連結](https://docs.scipy.org/doc/numpy/reference/routines.html)"
   ]
  },
  {
   "cell_type": "markdown",
   "metadata": {
    "collapsed": true
   },
   "source": [
    "#### ndim 維度、shape 行列、size 個數"
   ]
  },
  {
   "cell_type": "code",
   "execution_count": 1,
   "metadata": {},
   "outputs": [
    {
     "name": "stdout",
     "output_type": "stream",
     "text": [
      "[[1 2 3]\n",
      " [4 5 6]]\n",
      "維度: 2\n",
      "行列: (2, 3)\n",
      "個數: 6\n"
     ]
    }
   ],
   "source": [
    "# Array 之中的每一個元素都必須是相同型態\n",
    "\n",
    "import numpy as np  # 使用numpy採用np簡寫\n",
    "\n",
    "array1 = np.array([1, 2, 3])  # 一維的\n",
    "array2 = np.array([[1, 2, 3], [4, 5, 6]])  # 二維\n",
    "\n",
    "print(array2)\n",
    "print('維度:',array2.ndim)    # 維度 ndim\n",
    "print('行列:',array2.shape)   # 行列 shape\n",
    "print('個數:',array2.size)    # 個數 size"
   ]
  },
  {
   "cell_type": "markdown",
   "metadata": {
    "collapsed": true
   },
   "source": [
    "# H01 一維運算 \n",
    "*****\n",
    "#### arrange、zeros、ones、random"
   ]
  },
  {
   "cell_type": "code",
   "execution_count": 2,
   "metadata": {},
   "outputs": [
    {
     "name": "stdout",
     "output_type": "stream",
     "text": [
      "[ 3  6  9 12 15 18]\n",
      "[0 1 2 3 4 5]\n",
      "[0. 0. 0. 0. 0. 0.]\n",
      "[1 1 1 1 1 1]\n",
      "[0.7428798  0.30510032 0.70284686 0.41662477 0.01542927 0.26980243]\n",
      "[0.02362429 0.58765961 0.59618895 0.66055794 0.25559448 0.57825644]\n",
      "[ -3  -5  -7  -9 -11 -13]\n",
      "[False False False False  True  True]\n",
      "[False False False  True False False]\n"
     ]
    }
   ],
   "source": [
    "#一維陣列的運算\n",
    "import numpy as np\n",
    "\n",
    "a = np.array([3,6,9,12,15,18])\n",
    "b = np.arange(6)    # 0-5\n",
    "c = np.zeros(6)     # 數據全為0，6個\n",
    "d = np.ones(6, dtype = np.int)  # 數據為1，6個，整數\n",
    "e = np.random.random(6) # 0-1浮點數，6個\n",
    "f = np.random.rand(6)\n",
    "g = b-a\n",
    "\n",
    "print(a,b,c,d,e,f,g, sep=\"\\n\")\n",
    "print(g < -9)\n",
    "print(g == -9)"
   ]
  },
  {
   "cell_type": "markdown",
   "metadata": {
    "collapsed": true
   },
   "source": [
    "# H02 多維運算 \n",
    "*****\n",
    "#### arrange、zeros、ones、random、sum、axis"
   ]
  },
  {
   "cell_type": "code",
   "execution_count": 3,
   "metadata": {},
   "outputs": [
    {
     "name": "stdout",
     "output_type": "stream",
     "text": [
      "[[ 3  6  9]\n",
      " [12 15 18]]\n",
      "[[0 1 2]\n",
      " [3 4 5]]\n",
      "[[0. 0. 0.]\n",
      " [0. 0. 0.]]\n",
      "[[1 1 1]\n",
      " [1 1 1]]\n",
      "[[0.39869182 0.65928851 0.36077848]\n",
      " [0.27821291 0.13575088 0.31135486]]\n",
      "63\n",
      "[15 21 27]\n",
      "[18 45]\n"
     ]
    }
   ],
   "source": [
    "#多維陣列的運算\n",
    "import numpy as np\n",
    "\n",
    "a = np.array([[3,6,9],[12,15,18]])\n",
    "b = np.arange(6).reshape(2,3) # 一維轉成2X3\n",
    "c = np.zeros((2,3)) # 數據全為0\n",
    "d = np.ones((2,3), dtype = np.int) # 數據為1，6個\n",
    "e = np.random.random((2,3)) #亂數，6個\n",
    "\n",
    "print(a,b,c,d,e, sep=\"\\n\")\n",
    "print(np.sum(a))\n",
    "print(np.sum(a, axis=0)) # 欄位(直)的加總\n",
    "print(np.sum(a, axis=1)) # 欄位(橫)的加總"
   ]
  },
  {
   "cell_type": "markdown",
   "metadata": {
    "collapsed": true
   },
   "source": [
    "# H03 加減乘除法(*非矩陣乘法*) \n",
    "*****\n",
    "#### +\t-\t*\t/"
   ]
  },
  {
   "cell_type": "code",
   "execution_count": 10,
   "metadata": {},
   "outputs": [
    {
     "name": "stdout",
     "output_type": "stream",
     "text": [
      "[[ 2  4  6]\n",
      " [ 8 10 12]]\n",
      "[[0 1 2]\n",
      " [3 4 5]]\n",
      "[[ 2  5  8]\n",
      " [11 14 17]]\n",
      "[[2 3 4]\n",
      " [5 6 7]]\n",
      "[[ 0  4 12]\n",
      " [24 40 60]]\n",
      "[[0.         0.25       0.33333333]\n",
      " [0.375      0.4        0.41666667]]\n"
     ]
    }
   ],
   "source": [
    "import numpy as np\n",
    "A=np.array([[2,4,6],[8,10,12]])\n",
    "B=np.arange(6).reshape((2,3)) \n",
    "\n",
    "print(A)\n",
    "print(B)\n",
    "\n",
    "# AB的加減乘除法\n",
    "print(A+B)\n",
    "print(A-B)\n",
    "print(A*B)\n",
    "print(B/A)  # 被除數不可為0"
   ]
  },
  {
   "cell_type": "markdown",
   "metadata": {
    "collapsed": true
   },
   "source": [
    "# H04 矩陣乘法 \n",
    "*****\n",
    "#### .T、.dot"
   ]
  },
  {
   "cell_type": "code",
   "execution_count": 23,
   "metadata": {},
   "outputs": [
    {
     "name": "stdout",
     "output_type": "stream",
     "text": [
      "[[ 2  4  6]\n",
      " [ 8 10 12]]\n",
      "[[0 1 2]\n",
      " [3 4 5]]\n",
      "[[0 3]\n",
      " [1 4]\n",
      " [2 5]]\n",
      "[[ 16  52]\n",
      " [ 34 124]]\n"
     ]
    }
   ],
   "source": [
    "# 矩陣轉置 .T\n",
    "import numpy as np\n",
    "a=np.array([[2,4,6],[8,10,12]])\n",
    "b=np.arange(6).reshape((2,3)) \n",
    "\n",
    "print(a)\n",
    "print(b)\n",
    "print(b.T) # transpose\n",
    "\n",
    "# 矩陣乘法 .dot\n",
    "print(np.dot(a,b.T))"
   ]
  },
  {
   "cell_type": "markdown",
   "metadata": {
    "collapsed": true
   },
   "source": [
    "# H05 Array操作 \n",
    "*****\n",
    "#### 合併 vstack、hstack\n",
    "#### 分割 vspilt、hspilt"
   ]
  },
  {
   "cell_type": "code",
   "execution_count": 52,
   "metadata": {},
   "outputs": [
    {
     "name": "stdout",
     "output_type": "stream",
     "text": [
      "[[1 1 1]\n",
      " [2 2 2]]\n",
      "[1 1 1 2 2 2]\n",
      "[[ 0  1  2  3]\n",
      " [ 4  5  6  7]\n",
      " [ 8  9 10 11]]\n",
      "[array([[0, 1, 2, 3]]), array([[4, 5, 6, 7]]), array([[ 8,  9, 10, 11]])]\n",
      "[array([[0, 1],\n",
      "       [4, 5],\n",
      "       [8, 9]]), array([[ 2,  3],\n",
      "       [ 6,  7],\n",
      "       [10, 11]])]\n"
     ]
    }
   ],
   "source": [
    "# array 合併\n",
    "import numpy as np\n",
    "A = np.array([1,1,1])\n",
    "B = np.array([2,2,2])\n",
    "         \n",
    "print(np.vstack((A,B))) #vertical\n",
    "print(np.hstack((A,B))) #horizontal\n",
    "\n",
    "# array 分割\n",
    "import numpy as np\n",
    "a = np.arange(12).reshape((3,4))\n",
    "print(a)\n",
    "print(np.vsplit(a,3)) #vertical\n",
    "print(np.hsplit(a,2)) #horizontal"
   ]
  },
  {
   "cell_type": "markdown",
   "metadata": {},
   "source": [
    "# H06 numpy 取值\n",
    "*****\n",
    "[:,:] 左邊橫行 右邊直列"
   ]
  },
  {
   "cell_type": "code",
   "execution_count": 1,
   "metadata": {},
   "outputs": [],
   "source": [
    "import numpy as np\n",
    "a = np.array([[1,2,3],[2,3,4]])\n",
    "a1 = a[:,:1]\n",
    "a2 = a[:,1:2]\n",
    "a3 = a[:,2:3]\n",
    "a4 = a[:1]"
   ]
  },
  {
   "cell_type": "code",
   "execution_count": 2,
   "metadata": {},
   "outputs": [
    {
     "data": {
      "text/plain": [
       "array([[1, 2, 3],\n",
       "       [2, 3, 4]])"
      ]
     },
     "execution_count": 2,
     "metadata": {},
     "output_type": "execute_result"
    }
   ],
   "source": [
    "a"
   ]
  },
  {
   "cell_type": "code",
   "execution_count": 3,
   "metadata": {},
   "outputs": [
    {
     "data": {
      "text/plain": [
       "array([[1],\n",
       "       [2]])"
      ]
     },
     "execution_count": 3,
     "metadata": {},
     "output_type": "execute_result"
    }
   ],
   "source": [
    "a1"
   ]
  },
  {
   "cell_type": "code",
   "execution_count": 4,
   "metadata": {},
   "outputs": [
    {
     "data": {
      "text/plain": [
       "array([[2],\n",
       "       [3]])"
      ]
     },
     "execution_count": 4,
     "metadata": {},
     "output_type": "execute_result"
    }
   ],
   "source": [
    "a2"
   ]
  },
  {
   "cell_type": "code",
   "execution_count": 5,
   "metadata": {},
   "outputs": [
    {
     "data": {
      "text/plain": [
       "array([[3],\n",
       "       [4]])"
      ]
     },
     "execution_count": 5,
     "metadata": {},
     "output_type": "execute_result"
    }
   ],
   "source": [
    "a3"
   ]
  },
  {
   "cell_type": "code",
   "execution_count": 6,
   "metadata": {},
   "outputs": [
    {
     "data": {
      "text/plain": [
       "array([[1, 2, 3]])"
      ]
     },
     "execution_count": 6,
     "metadata": {},
     "output_type": "execute_result"
    }
   ],
   "source": [
    "a4"
   ]
  },
  {
   "cell_type": "code",
   "execution_count": null,
   "metadata": {},
   "outputs": [],
   "source": []
  },
  {
   "cell_type": "markdown",
   "metadata": {
    "collapsed": true
   },
   "source": [
    "# Pandas \n",
    "*****\n",
    "#### Pandas建構於Numpy上，Python做資料分析常用的套件\n",
    "- Numpy是array形式的，沒有欄位名稱或標籤\n",
    "- Pandas基於Numpy構建的，有列表的標籤 "
   ]
  },
  {
   "cell_type": "markdown",
   "metadata": {
    "collapsed": true
   },
   "source": [
    "# H01 Series \n",
    "*****\n",
    "#### 是有index的一維array"
   ]
  },
  {
   "cell_type": "code",
   "execution_count": 104,
   "metadata": {},
   "outputs": [
    {
     "name": "stdout",
     "output_type": "stream",
     "text": [
      "0       1\n",
      "1     abc\n",
      "2     NaN\n",
      "3    3.14\n",
      "4    True\n",
      "dtype: object\n"
     ]
    }
   ],
   "source": [
    "import pandas as pd\n",
    "import numpy as np\n",
    "# 建立一個 Series 有整數、字串、NAN、浮點數、布林\n",
    "s = pd.Series([1, \"abc\", np.nan, 3.14, True])\n",
    "\n",
    "print(s)\n",
    "#如果是numpy的array呢?"
   ]
  },
  {
   "cell_type": "markdown",
   "metadata": {
    "collapsed": true
   },
   "source": [
    "# H02 DateFrame\n",
    "*****\n",
    "#### 生成方式一 : 用array的矩陣\n",
    "#### 生成方式二 : 字典方式"
   ]
  },
  {
   "cell_type": "code",
   "execution_count": 148,
   "metadata": {},
   "outputs": [
    {
     "name": "stdout",
     "output_type": "stream",
     "text": [
      "          0         1         2\n",
      "0  1.957959  0.263000  0.312238\n",
      "1  0.444358  0.878695 -1.199393\n",
      "2  0.200609  0.474083  1.288408\n",
      "3 -1.671216 -0.719887 -0.015013\n",
      "4 -0.511223  2.046858  2.791046\n",
      "5 -0.692247  0.191990  0.248280\n",
      "6  0.221255  1.374569 -0.096175\n",
      "[[80 85 80]\n",
      " [85 50 55]\n",
      " [80 85 60]\n",
      " [90 55 85]\n",
      " [60 50 70]\n",
      " [80 75 55]\n",
      " [95 60 50]]\n",
      "    0   1   2\n",
      "0  80  85  80\n",
      "1  85  50  55\n",
      "2  80  85  60\n",
      "3  90  55  85\n",
      "4  60  50  70\n",
      "5  80  75  55\n",
      "6  95  60  50\n",
      "            早餐  午餐  晚餐\n",
      "2017-10-28  80  85  80\n",
      "2017-10-29  85  50  55\n",
      "2017-10-30  80  85  60\n",
      "2017-10-31  90  55  85\n",
      "2017-11-01  60  50  70\n",
      "2017-11-02  80  75  55\n",
      "2017-11-03  95  60  50\n"
     ]
    }
   ],
   "source": [
    "# 生成方式一：用array的矩陣(1)\n",
    "df = pd.DataFrame(np.random.randn(7,3))\n",
    "print(df)\n",
    "\n",
    "# 生成方式一：用array的矩陣(2)\n",
    "eat = np.random.randint(10,size=(7,3))*5+50\n",
    "print(eat)\n",
    "dates = pd.date_range('20171028',periods=7)\n",
    "df0 = pd.DataFrame(eat)\n",
    "print(df0)\n",
    "#加上欄位\n",
    "df1 = pd.DataFrame(eat, index=dates, columns=['早餐','午餐','晚餐'])\n",
    "print(df1)"
   ]
  },
  {
   "cell_type": "code",
   "execution_count": 155,
   "metadata": {},
   "outputs": [
    {
     "name": "stdout",
     "output_type": "stream",
     "text": [
      "    小數  整數         時間   測試   類別資料\n",
      "0  1.0   3 2017-08-12  123   test\n",
      "1  1.0   3 2017-08-12  123  train\n",
      "2  1.0   3 2017-08-12  123   test\n",
      "3  1.0   3 2017-08-12  123  train\n"
     ]
    }
   ],
   "source": [
    "#生成方式二，字典方式\n",
    "df2 = pd.DataFrame({'小數' : pd.Series(1,index=list(range(4)),dtype='float32'),\n",
    "                    '整數' : np.array([3] * 4,dtype='int32'),\n",
    "                    '時間' : pd.Timestamp('20170812'),\n",
    "                    '類別資料' : pd.Categorical([\"test\",\"train\",\"test\",\"train\"]),\n",
    "                    '測試' : 123\n",
    "                   }) \n",
    "#字典的key代表甚麼? colums name\n",
    "#dtype指定資料格式? Y\n",
    "print(df2)"
   ]
  },
  {
   "cell_type": "code",
   "execution_count": 159,
   "metadata": {},
   "outputs": [
    {
     "name": "stdout",
     "output_type": "stream",
     "text": [
      "    小數  整數         時間   測試   類別資料\n",
      "0  1.0   3 2017-08-12  123   test\n",
      "1  1.0   3 2017-08-12  123  train\n",
      "2  1.0   3 2017-08-12  123   test\n",
      "3  1.0   3 2017-08-12  123  train\n",
      "小數             float32\n",
      "整數               int32\n",
      "時間      datetime64[ns]\n",
      "測試               int64\n",
      "類別資料          category\n",
      "dtype: object\n",
      "Int64Index([0, 1, 2, 3], dtype='int64')\n",
      "        小數   整數     測試\n",
      "count  4.0  4.0    4.0\n",
      "mean   1.0  3.0  123.0\n",
      "std    0.0  0.0    0.0\n",
      "min    1.0  3.0  123.0\n",
      "25%    1.0  3.0  123.0\n",
      "50%    1.0  3.0  123.0\n",
      "75%    1.0  3.0  123.0\n",
      "max    1.0  3.0  123.0\n",
      "                        0                    1                    2  \\\n",
      "小數                      1                    1                    1   \n",
      "整數                      3                    3                    3   \n",
      "時間    2017-08-12 00:00:00  2017-08-12 00:00:00  2017-08-12 00:00:00   \n",
      "測試                    123                  123                  123   \n",
      "類別資料                 test                train                 test   \n",
      "\n",
      "                        3  \n",
      "小數                      1  \n",
      "整數                      3  \n",
      "時間    2017-08-12 00:00:00  \n",
      "測試                    123  \n",
      "類別資料                train  \n",
      "    類別資料   測試         時間  整數   小數\n",
      "0   test  123 2017-08-12   3  1.0\n",
      "1  train  123 2017-08-12   3  1.0\n",
      "2   test  123 2017-08-12   3  1.0\n",
      "3  train  123 2017-08-12   3  1.0\n",
      "    小數  整數         時間   測試   類別資料\n",
      "0  1.0   3 2017-08-12  123   test\n",
      "2  1.0   3 2017-08-12  123   test\n",
      "1  1.0   3 2017-08-12  123  train\n",
      "3  1.0   3 2017-08-12  123  train\n"
     ]
    }
   ],
   "source": [
    "#DataFrame的屬性\n",
    "print(df2)\n",
    "print(df2.dtypes)\n",
    "print(df2.index) #print(df2.columns), print(df2.values)\n",
    "print(df2.describe()) #有甚麼要注意的呢?\n",
    "\n",
    "print(df2.T)\n",
    "print(df2.sort_index(axis=1, ascending=False))\n",
    "print(df2.sort_values(by='類別資料'))"
   ]
  },
  {
   "cell_type": "markdown",
   "metadata": {
    "collapsed": true
   },
   "source": [
    "# H03 選擇欄、列數據\n",
    "*****\n",
    "#### 欄列一起選、by position、by ix、判斷、篩選"
   ]
  },
  {
   "cell_type": "code",
   "execution_count": 168,
   "metadata": {},
   "outputs": [
    {
     "name": "stdout",
     "output_type": "stream",
     "text": [
      "            早餐  午餐  晚餐\n",
      "2017-10-28  80  85  80\n",
      "2017-10-29  85  50  55\n",
      "2017-10-30  80  85  60\n",
      "2017-10-31  90  55  85\n",
      "2017-11-01  60  50  70\n",
      "2017-11-02  80  75  55\n",
      "2017-11-03  95  60  50\n",
      "2017-10-28    85\n",
      "2017-10-29    50\n",
      "2017-10-30    85\n",
      "2017-10-31    55\n",
      "2017-11-01    50\n",
      "2017-11-02    75\n",
      "2017-11-03    60\n",
      "Freq: D, Name: 午餐, dtype: int32\n",
      "            早餐  午餐  晚餐\n",
      "2017-10-28  80  85  80\n",
      "2017-10-29  85  50  55\n",
      "2017-10-30  80  85  60\n"
     ]
    }
   ],
   "source": [
    "print(df1)\n",
    "print(df1[\"午餐\"])\n",
    "print(df1[0:3])"
   ]
  },
  {
   "cell_type": "code",
   "execution_count": 169,
   "metadata": {},
   "outputs": [
    {
     "name": "stdout",
     "output_type": "stream",
     "text": [
      "早餐    80\n",
      "午餐    85\n",
      "晚餐    80\n",
      "Name: 2017-10-28 00:00:00, dtype: int32\n",
      "            早餐  晚餐\n",
      "2017-10-28  80  80\n",
      "2017-10-29  85  55\n",
      "2017-10-30  80  60\n",
      "2017-10-31  90  85\n",
      "2017-11-01  60  70\n",
      "2017-11-02  80  55\n",
      "2017-11-03  95  50\n"
     ]
    }
   ],
   "source": [
    "# 欄列一起選\n",
    "# select by label\n",
    "print(df1.loc['20171028'])\n",
    "print(df1.loc[:,['早餐','晚餐']])"
   ]
  },
  {
   "cell_type": "code",
   "execution_count": 172,
   "metadata": {},
   "outputs": [
    {
     "name": "stdout",
     "output_type": "stream",
     "text": [
      "55\n",
      "            午餐  晚餐\n",
      "2017-10-31  55  85\n",
      "2017-11-01  50  70\n"
     ]
    }
   ],
   "source": [
    "#select by position\n",
    "print(df1.iloc[3,1])\n",
    "print(df1.iloc[3:5,1:3])"
   ]
  },
  {
   "cell_type": "code",
   "execution_count": 173,
   "metadata": {},
   "outputs": [
    {
     "name": "stdout",
     "output_type": "stream",
     "text": [
      "            午餐  晚餐\n",
      "2017-10-28  85  80\n",
      "2017-10-29  50  55\n",
      "2017-10-30  85  60\n"
     ]
    }
   ],
   "source": [
    "#select by ix\n",
    "print(df1.ix[:3,['午餐','晚餐']])"
   ]
  },
  {
   "cell_type": "code",
   "execution_count": 174,
   "metadata": {},
   "outputs": [
    {
     "name": "stdout",
     "output_type": "stream",
     "text": [
      "            早餐  午餐  晚餐\n",
      "2017-10-28  80  85  80\n",
      "2017-10-30  80  85  60\n"
     ]
    }
   ],
   "source": [
    "# 判斷、篩選\n",
    "print(df1[df1.午餐>80])"
   ]
  },
  {
   "cell_type": "code",
   "execution_count": 175,
   "metadata": {},
   "outputs": [
    {
     "name": "stdout",
     "output_type": "stream",
     "text": [
      "            早餐    午餐   晚餐\n",
      "2017-10-28  80  85.0   80\n",
      "2017-10-29  85   NaN   40\n",
      "2017-10-30  80  85.0  195\n",
      "2017-10-31  90  55.0   40\n",
      "2017-11-01  60  50.0   70\n",
      "2017-11-02  80  75.0   60\n",
      "2017-11-03  95  60.0   40\n"
     ]
    }
   ],
   "source": [
    "df1.iloc[2,2] = 195\n",
    "df1.loc['20171102','晚餐'] = 60\n",
    "df1.晚餐[df1.早餐>80] = 40\n",
    "df1.loc['20171029','午餐'] = np.nan\n",
    "\n",
    "print(df1)"
   ]
  },
  {
   "cell_type": "code",
   "execution_count": null,
   "metadata": {},
   "outputs": [],
   "source": []
  }
 ],
 "metadata": {
  "kernelspec": {
   "display_name": "Python 3",
   "language": "python",
   "name": "python3"
  },
  "language_info": {
   "codemirror_mode": {
    "name": "ipython",
    "version": 3
   },
   "file_extension": ".py",
   "mimetype": "text/x-python",
   "name": "python",
   "nbconvert_exporter": "python",
   "pygments_lexer": "ipython3",
   "version": "3.6.5"
  }
 },
 "nbformat": 4,
 "nbformat_minor": 1
}
