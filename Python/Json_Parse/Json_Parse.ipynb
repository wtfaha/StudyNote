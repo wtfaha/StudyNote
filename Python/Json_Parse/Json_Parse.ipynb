{
 "cells": [
  {
   "cell_type": "markdown",
   "metadata": {},
   "source": [
    "# Python3 JSON 數據解析  \n",
    "*****\n",
    "01 編碼、解碼  \n",
    "+ json.dumps()  \n",
    "+ json.loads()  \n",
    "\n",
    "02 讀寫Json檔案  \n",
    "*****"
   ]
  },
  {
   "cell_type": "markdown",
   "metadata": {},
   "source": [
    "### 01 編碼、解碼\n",
    "*****\n",
    "json.dumps(): 對數據進行解碼  \n",
    "json.loads(): 對數據進行編碼  "
   ]
  },
  {
   "cell_type": "code",
   "execution_count": 1,
   "metadata": {},
   "outputs": [
    {
     "name": "stdout",
     "output_type": "stream",
     "text": [
      "Python 原始数据： {'no': 1, 'name': 'Runoob', 'url': 'http://www.runoob.com'}\n",
      "JSON 对象： {\"no\": 1, \"name\": \"Runoob\", \"url\": \"http://www.runoob.com\"}\n",
      "data2['name']:  Runoob\n",
      "data2['url']:  http://www.runoob.com\n"
     ]
    }
   ],
   "source": [
    "import json\n",
    "\n",
    "data = {\n",
    "    'no' : 1,\n",
    "    'name' : 'Runoob',\n",
    "    'url' : 'http://www.runoob.com'\n",
    "}\n",
    "\n",
    "# Python 字典類型轉換為JSON對象\n",
    "json_str = json.dumps(data)\n",
    "print (\"Python 原始数据：\", repr(data))\n",
    "print (\"JSON 对象：\", json_str)\n",
    "\n",
    "# 將JSON對象轉換為Python字典\n",
    "data2 = json.loads(json_str)\n",
    "print (\"data2['name']: \", data2['name'])\n",
    "print (\"data2['url']: \", data2['url'])"
   ]
  },
  {
   "cell_type": "markdown",
   "metadata": {},
   "source": [
    "### 02 讀寫Json檔案 \n",
    "*****\n",
    "r - 讀取(檔案需存在)  \n",
    "w - 新建檔案寫入(檔案可不存在，若存在則清空)  \n",
    "a - 資料附加到舊檔案後面(游標指在EOF)  \n",
    "r+ - 讀取舊資料並寫入(檔案需存在且游標指在開頭)  \n",
    "w+ - 清空檔案內容，新寫入的東西可在讀出(檔案可不存在，會自行新增)  \n",
    "a+ - 資料附加到舊檔案後面(游標指在EOF)，可讀取資料  \n",
    "b - 二進位模式  "
   ]
  },
  {
   "cell_type": "code",
   "execution_count": 2,
   "metadata": {},
   "outputs": [
    {
     "name": "stdout",
     "output_type": "stream",
     "text": [
      "data['no']:  1\n"
     ]
    }
   ],
   "source": [
    "# 寫入JSON數據\n",
    "with open('data.json', 'w') as f:\n",
    "    json.dump(data, f)\n",
    "\n",
    "# 讀取數據\n",
    "with open('data.json', 'r') as f:\n",
    "    data = json.load(f)\n",
    "    print (\"data['no']: \", data['no'])\n"
   ]
  },
  {
   "cell_type": "markdown",
   "metadata": {},
   "source": [
    "### 03 複雜的操作 \n",
    "*****"
   ]
  },
  {
   "cell_type": "code",
   "execution_count": 3,
   "metadata": {},
   "outputs": [
    {
     "name": "stdout",
     "output_type": "stream",
     "text": [
      "data2['no'] :  {'Birthday': 123, 'Year': 456, 'Record': {'1': {'Date': 20020808, 'ICD': [785], 'Op': 1}}}\n",
      "data2['no']['Record'] :  {'1': {'Date': 20020808, 'ICD': [785], 'Op': 1}}\n",
      "data2['no']['Record']['1'] :  {'Date': 20020808, 'ICD': [785], 'Op': 1}\n",
      "data2['no']['Record']['1']['ICD'] :  [785]\n"
     ]
    }
   ],
   "source": [
    "import json\n",
    "\n",
    "data = {\n",
    "    'no' : {\n",
    "        \"Birthday\" : 123,\n",
    "        \"Year\" : 456,\n",
    "        \"Record\" : {\n",
    "            \"1\": {\n",
    "                \"Date\": 20020808, \n",
    "                \"ICD\": [\n",
    "                    785\n",
    "                ], \n",
    "                \"Op\": 1\n",
    "            }\n",
    "        }\n",
    "    },\n",
    "    'name' : 'Runoob',\n",
    "    'url' : 'http://www.runoob.com'\n",
    "}\n",
    "\n",
    "\n",
    "\n",
    "# Python 字典類型轉換為JSON對象\n",
    "json_str = json.dumps(data)\n",
    "\n",
    "# 將JSON對象轉換為Python字典\n",
    "data2 = json.loads(json_str)\n",
    "print (\"data2['no'] : \", data2['no'])\n",
    "print (\"data2['no']['Record'] : \", data2['no']['Record'])\n",
    "print (\"data2['no']['Record']['1'] : \", data2['no']['Record']['1'])\n",
    "print (\"data2['no']['Record']['1']['ICD'] : \", data2['no']['Record']['1']['ICD'])\n"
   ]
  },
  {
   "cell_type": "code",
   "execution_count": null,
   "metadata": {},
   "outputs": [],
   "source": []
  },
  {
   "cell_type": "markdown",
   "metadata": {},
   "source": [
    "# 參考連結\n",
    "\n",
    "*****\n",
    "[Python3 JSON 数据解析](http://www.runoob.com/python3/python3-json.html)  \n",
    "[Python 讀寫檔案](https://github.com/wtfaha/StudyNote/tree/master/Python)  "
   ]
  }
 ],
 "metadata": {
  "kernelspec": {
   "display_name": "Python 3",
   "language": "python",
   "name": "python3"
  },
  "language_info": {
   "codemirror_mode": {
    "name": "ipython",
    "version": 3
   },
   "file_extension": ".py",
   "mimetype": "text/x-python",
   "name": "python",
   "nbconvert_exporter": "python",
   "pygments_lexer": "ipython3",
   "version": "3.6.5"
  }
 },
 "nbformat": 4,
 "nbformat_minor": 2
}
