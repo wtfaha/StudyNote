{
 "cells": [
  {
   "cell_type": "markdown",
   "metadata": {},
   "source": [
    "# Python3 JSON 數據解析  \n",
    "*****\n",
    "01 編碼、解碼  \n",
    "+ json.dumps()  \n",
    "+ json.loads()  \n",
    "\n",
    "02 讀寫Json檔案  \n",
    "*****"
   ]
  },
  {
   "cell_type": "markdown",
   "metadata": {},
   "source": [
    "### 01 編碼、解碼\n",
    "*****\n",
    "json.dumps(): 對數據進行解碼  \n",
    "json.loads(): 對數據進行編碼  "
   ]
  },
  {
   "cell_type": "code",
   "execution_count": 1,
   "metadata": {},
   "outputs": [],
   "source": [
    "import json\n",
    "\n",
    "data = {\n",
    "    'no' : 1,\n",
    "    'name' : 'Runoob',\n",
    "    'url' : 'http://www.runoob.com'\n",
    "}\n",
    "\n",
    "# Python 字典類型轉換為JSON對象\n",
    "json_str = json.dumps(data)\n",
    "print (\"Python 原始数据：\", repr(data))\n",
    "print (\"JSON 对象：\", json_str)\n",
    "\n",
    "# 將JSON對象轉換為Python字典\n",
    "data2 = json.loads(json_str)\n",
    "print (\"data2['name']: \", data2['name'])\n",
    "print (\"data2['url']: \", data2['url'])"
   ]
  },
  {
   "cell_type": "markdown",
   "metadata": {},
   "source": [
    "### 02 讀寫Json檔案 \n",
    "*****\n",
    "r - 讀取(檔案需存在)  \n",
    "w - 新建檔案寫入(檔案可不存在，若存在則清空)  \n",
    "a - 資料附加到舊檔案後面(游標指在EOF)  \n",
    "r+ - 讀取舊資料並寫入(檔案需存在且游標指在開頭)  \n",
    "w+ - 清空檔案內容，新寫入的東西可在讀出(檔案可不存在，會自行新增)  \n",
    "a+ - 資料附加到舊檔案後面(游標指在EOF)，可讀取資料  \n",
    "b - 二進位模式  "
   ]
  },
  {
   "cell_type": "code",
   "execution_count": 2,
   "metadata": {},
   "outputs": [
    {
     "name": "stdout",
     "output_type": "stream",
     "text": [
      "data['no']:  1\n"
     ]
    }
   ],
   "source": [
    "# 寫入JSON數據\n",
    "with open('data.json', 'w') as f:\n",
    "    json.dump(data, f)\n",
    "\n",
    "# 讀取數據\n",
    "with open('data.json', 'r') as f:\n",
    "    data = json.load(f)\n",
    "    print (\"data['no']: \", data['no'])\n"
   ]
  },
  {
   "cell_type": "markdown",
   "metadata": {},
   "source": [
    "### 03 複雜的操作 \n",
    "*****"
   ]
  },
  {
   "cell_type": "code",
   "execution_count": 3,
   "metadata": {},
   "outputs": [
    {
     "name": "stdout",
     "output_type": "stream",
     "text": [
      "data2['no'] :  {'Birthday': 123, 'Year': 456, 'Record': {'1': {'Date': 20020808, 'ICD': [785], 'Op': 1}}}\n",
      "data2['no']['Record'] :  {'1': {'Date': 20020808, 'ICD': [785], 'Op': 1}}\n",
      "data2['no']['Record']['1'] :  {'Date': 20020808, 'ICD': [785], 'Op': 1}\n",
      "data2['no']['Record']['1']['ICD'] :  [785]\n"
     ]
    }
   ],
   "source": [
    "import json\n",
    "\n",
    "data = {\n",
    "    'no' : {\n",
    "        \"Birthday\" : 123,\n",
    "        \"Year\" : 456,\n",
    "        \"Record\" : {\n",
    "            \"1\": {\n",
    "                \"Date\": 20020808, \n",
    "                \"ICD\": [\n",
    "                    785\n",
    "                ], \n",
    "                \"Op\": 1\n",
    "            }\n",
    "        }\n",
    "    },\n",
    "    'name' : 'Runoob',\n",
    "    'url' : 'http://www.runoob.com'\n",
    "}\n",
    "\n",
    "\n",
    "\n",
    "# Python 字典類型轉換為JSON對象\n",
    "json_str = json.dumps(data)\n",
    "\n",
    "# 將JSON對象轉換為Python字典\n",
    "data2 = json.loads(json_str)\n",
    "print (\"data2['no'] : \", data2['no'])\n",
    "print (\"data2['no']['Record'] : \", data2['no']['Record'])\n",
    "print (\"data2['no']['Record']['1'] : \", data2['no']['Record']['1'])\n",
    "print (\"data2['no']['Record']['1']['ICD'] : \", data2['no']['Record']['1']['ICD'])\n"
   ]
  },
  {
   "cell_type": "code",
   "execution_count": null,
   "metadata": {},
   "outputs": [],
   "source": []
  },
  {
   "cell_type": "code",
   "execution_count": 4,
   "metadata": {
    "scrolled": true
   },
   "outputs": [
    {
     "data": {
      "text/html": [
       "<div>\n",
       "<style scoped>\n",
       "    .dataframe tbody tr th:only-of-type {\n",
       "        vertical-align: middle;\n",
       "    }\n",
       "\n",
       "    .dataframe tbody tr th {\n",
       "        vertical-align: top;\n",
       "    }\n",
       "\n",
       "    .dataframe thead th {\n",
       "        text-align: right;\n",
       "    }\n",
       "</style>\n",
       "<table border=\"1\" class=\"dataframe\">\n",
       "  <thead>\n",
       "    <tr style=\"text-align: right;\">\n",
       "      <th></th>\n",
       "      <th>0008dd29c86ee88a817cea190dad0346</th>\n",
       "      <th>000cfd5074b45bf168fb182a4eea7167</th>\n",
       "      <th>00224d1715680e16dfd62703f24dd8c3</th>\n",
       "    </tr>\n",
       "  </thead>\n",
       "  <tbody>\n",
       "    <tr>\n",
       "      <th>BirthDay</th>\n",
       "      <td>193902</td>\n",
       "      <td>196602</td>\n",
       "      <td>195804</td>\n",
       "    </tr>\n",
       "    <tr>\n",
       "      <th>BirthYear</th>\n",
       "      <td>1939</td>\n",
       "      <td>1966</td>\n",
       "      <td>1958</td>\n",
       "    </tr>\n",
       "    <tr>\n",
       "      <th>DeathDay</th>\n",
       "      <td>NaN</td>\n",
       "      <td>NaN</td>\n",
       "      <td>2024</td>\n",
       "    </tr>\n",
       "    <tr>\n",
       "      <th>DeathYear</th>\n",
       "      <td>NaN</td>\n",
       "      <td>NaN</td>\n",
       "      <td>NaN</td>\n",
       "    </tr>\n",
       "    <tr>\n",
       "      <th>Record</th>\n",
       "      <td>{'1': {'Date': 20020808, 'ICD': [785], 'Op': 1...</td>\n",
       "      <td>{'1': {'Date': 19990519, 'ICD': [463, 276], 'O...</td>\n",
       "      <td>{'1': {'Date': 20110302, 'ICD': [727], 'Op': 1...</td>\n",
       "    </tr>\n",
       "  </tbody>\n",
       "</table>\n",
       "</div>"
      ],
      "text/plain": [
       "                            0008dd29c86ee88a817cea190dad0346  \\\n",
       "BirthDay                                              193902   \n",
       "BirthYear                                               1939   \n",
       "DeathDay                                                 NaN   \n",
       "DeathYear                                                NaN   \n",
       "Record     {'1': {'Date': 20020808, 'ICD': [785], 'Op': 1...   \n",
       "\n",
       "                            000cfd5074b45bf168fb182a4eea7167  \\\n",
       "BirthDay                                              196602   \n",
       "BirthYear                                               1966   \n",
       "DeathDay                                                 NaN   \n",
       "DeathYear                                                NaN   \n",
       "Record     {'1': {'Date': 19990519, 'ICD': [463, 276], 'O...   \n",
       "\n",
       "                            00224d1715680e16dfd62703f24dd8c3  \n",
       "BirthDay                                              195804  \n",
       "BirthYear                                               1958  \n",
       "DeathDay                                                2024  \n",
       "DeathYear                                                NaN  \n",
       "Record     {'1': {'Date': 20110302, 'ICD': [727], 'Op': 1...  "
      ]
     },
     "execution_count": 4,
     "metadata": {},
     "output_type": "execute_result"
    }
   ],
   "source": [
    "import pandas as pd\n",
    "import codecs\n",
    "import json\n",
    "\n",
    "path = 'patient-date335.json'\n",
    "with codecs.open(path, 'r', 'utf-8') as json_data:\n",
    "    json_dicts = json.load(json_data) # 读取json数据为list[dict]结构\n",
    "    df = pd.DataFrame(json_dicts)\n",
    "    #print (\"json_dicts['0008dd29c86ee88a817cea190dad0346']['Record']['1']['ICD'] : \", json_dicts['0008dd29c86ee88a817cea190dad0346']['Record']['1']['ICD'])\n",
    "    #print(\"df2 : \", df2)\n",
    "    #print(\"df2.index : \", df2.index)\n",
    "df"
   ]
  },
  {
   "cell_type": "code",
   "execution_count": null,
   "metadata": {},
   "outputs": [],
   "source": []
  },
  {
   "cell_type": "code",
   "execution_count": null,
   "metadata": {},
   "outputs": [],
   "source": []
  },
  {
   "cell_type": "code",
   "execution_count": null,
   "metadata": {},
   "outputs": [],
   "source": []
  },
  {
   "cell_type": "code",
   "execution_count": null,
   "metadata": {},
   "outputs": [],
   "source": []
  },
  {
   "cell_type": "code",
   "execution_count": 15,
   "metadata": {},
   "outputs": [
    {
     "data": {
      "text/html": [
       "<div>\n",
       "<style scoped>\n",
       "    .dataframe tbody tr th:only-of-type {\n",
       "        vertical-align: middle;\n",
       "    }\n",
       "\n",
       "    .dataframe tbody tr th {\n",
       "        vertical-align: top;\n",
       "    }\n",
       "\n",
       "    .dataframe thead th {\n",
       "        text-align: right;\n",
       "    }\n",
       "</style>\n",
       "<table border=\"1\" class=\"dataframe\">\n",
       "  <thead>\n",
       "    <tr style=\"text-align: right;\">\n",
       "      <th></th>\n",
       "      <th>0008dd29c86ee88a817cea190dad0346</th>\n",
       "      <th>000cfd5074b45bf168fb182a4eea7167</th>\n",
       "      <th>00224d1715680e16dfd62703f24dd8c3</th>\n",
       "    </tr>\n",
       "  </thead>\n",
       "  <tbody>\n",
       "    <tr>\n",
       "      <th>BirthDay</th>\n",
       "      <td>193902</td>\n",
       "      <td>196602</td>\n",
       "      <td>195804</td>\n",
       "    </tr>\n",
       "    <tr>\n",
       "      <th>BirthYear</th>\n",
       "      <td>1939</td>\n",
       "      <td>1966</td>\n",
       "      <td>1958</td>\n",
       "    </tr>\n",
       "    <tr>\n",
       "      <th>DeathDay</th>\n",
       "      <td>NaN</td>\n",
       "      <td>NaN</td>\n",
       "      <td>2024</td>\n",
       "    </tr>\n",
       "    <tr>\n",
       "      <th>DeathYear</th>\n",
       "      <td>NaN</td>\n",
       "      <td>NaN</td>\n",
       "      <td>NaN</td>\n",
       "    </tr>\n",
       "    <tr>\n",
       "      <th>Record</th>\n",
       "      <td>{'1': {'Date': 20020808, 'ICD': [785], 'Op': 1...</td>\n",
       "      <td>{'1': {'Date': 19990519, 'ICD': [463, 276], 'O...</td>\n",
       "      <td>{'1': {'Date': 20110302, 'ICD': [727], 'Op': 1...</td>\n",
       "    </tr>\n",
       "  </tbody>\n",
       "</table>\n",
       "</div>"
      ],
      "text/plain": [
       "                            0008dd29c86ee88a817cea190dad0346  \\\n",
       "BirthDay                                              193902   \n",
       "BirthYear                                               1939   \n",
       "DeathDay                                                 NaN   \n",
       "DeathYear                                                NaN   \n",
       "Record     {'1': {'Date': 20020808, 'ICD': [785], 'Op': 1...   \n",
       "\n",
       "                            000cfd5074b45bf168fb182a4eea7167  \\\n",
       "BirthDay                                              196602   \n",
       "BirthYear                                               1966   \n",
       "DeathDay                                                 NaN   \n",
       "DeathYear                                                NaN   \n",
       "Record     {'1': {'Date': 19990519, 'ICD': [463, 276], 'O...   \n",
       "\n",
       "                            00224d1715680e16dfd62703f24dd8c3  \n",
       "BirthDay                                              195804  \n",
       "BirthYear                                               1958  \n",
       "DeathDay                                                2024  \n",
       "DeathYear                                                NaN  \n",
       "Record     {'1': {'Date': 20110302, 'ICD': [727], 'Op': 1...  "
      ]
     },
     "execution_count": 15,
     "metadata": {},
     "output_type": "execute_result"
    }
   ],
   "source": [
    "import pandas as pd\n",
    "import numpy as np\n",
    "\n",
    "# 讀取數據\n",
    "with open('patient-date335.json', 'r') as f:\n",
    "    data = json.load(f)\n",
    "    df = pd.DataFrame(data)\n",
    "df"
   ]
  },
  {
   "cell_type": "code",
   "execution_count": 16,
   "metadata": {},
   "outputs": [
    {
     "data": {
      "text/html": [
       "<div>\n",
       "<style scoped>\n",
       "    .dataframe tbody tr th:only-of-type {\n",
       "        vertical-align: middle;\n",
       "    }\n",
       "\n",
       "    .dataframe tbody tr th {\n",
       "        vertical-align: top;\n",
       "    }\n",
       "\n",
       "    .dataframe thead th {\n",
       "        text-align: right;\n",
       "    }\n",
       "</style>\n",
       "<table border=\"1\" class=\"dataframe\">\n",
       "  <thead>\n",
       "    <tr style=\"text-align: right;\">\n",
       "      <th></th>\n",
       "      <th>BirthDay</th>\n",
       "      <th>BirthYear</th>\n",
       "      <th>DeathDay</th>\n",
       "      <th>DeathYear</th>\n",
       "      <th>Record</th>\n",
       "    </tr>\n",
       "  </thead>\n",
       "  <tbody>\n",
       "    <tr>\n",
       "      <th>0008dd29c86ee88a817cea190dad0346</th>\n",
       "      <td>193902</td>\n",
       "      <td>1939</td>\n",
       "      <td>NaN</td>\n",
       "      <td>NaN</td>\n",
       "      <td>{'1': {'Date': 20020808, 'ICD': [785], 'Op': 1...</td>\n",
       "    </tr>\n",
       "    <tr>\n",
       "      <th>000cfd5074b45bf168fb182a4eea7167</th>\n",
       "      <td>196602</td>\n",
       "      <td>1966</td>\n",
       "      <td>NaN</td>\n",
       "      <td>NaN</td>\n",
       "      <td>{'1': {'Date': 19990519, 'ICD': [463, 276], 'O...</td>\n",
       "    </tr>\n",
       "    <tr>\n",
       "      <th>00224d1715680e16dfd62703f24dd8c3</th>\n",
       "      <td>195804</td>\n",
       "      <td>1958</td>\n",
       "      <td>2024</td>\n",
       "      <td>NaN</td>\n",
       "      <td>{'1': {'Date': 20110302, 'ICD': [727], 'Op': 1...</td>\n",
       "    </tr>\n",
       "  </tbody>\n",
       "</table>\n",
       "</div>"
      ],
      "text/plain": [
       "                                 BirthDay BirthYear DeathDay DeathYear  \\\n",
       "0008dd29c86ee88a817cea190dad0346   193902      1939      NaN       NaN   \n",
       "000cfd5074b45bf168fb182a4eea7167   196602      1966      NaN       NaN   \n",
       "00224d1715680e16dfd62703f24dd8c3   195804      1958     2024       NaN   \n",
       "\n",
       "                                                                             Record  \n",
       "0008dd29c86ee88a817cea190dad0346  {'1': {'Date': 20020808, 'ICD': [785], 'Op': 1...  \n",
       "000cfd5074b45bf168fb182a4eea7167  {'1': {'Date': 19990519, 'ICD': [463, 276], 'O...  \n",
       "00224d1715680e16dfd62703f24dd8c3  {'1': {'Date': 20110302, 'ICD': [727], 'Op': 1...  "
      ]
     },
     "execution_count": 16,
     "metadata": {},
     "output_type": "execute_result"
    }
   ],
   "source": [
    "# 行列互換\n",
    "df = df.T # 矩阵的转置\n",
    "df"
   ]
  },
  {
   "cell_type": "code",
   "execution_count": 17,
   "metadata": {},
   "outputs": [
    {
     "name": "stdout",
     "output_type": "stream",
     "text": [
      "df.dtypes-----------\n",
      " BirthDay     object\n",
      "BirthYear    object\n",
      "DeathDay     object\n",
      "DeathYear    object\n",
      "Record       object\n",
      "dtype: object \n",
      "\n",
      "df.index-----------\n",
      " Index(['0008dd29c86ee88a817cea190dad0346', '000cfd5074b45bf168fb182a4eea7167',\n",
      "       '00224d1715680e16dfd62703f24dd8c3'],\n",
      "      dtype='object') \n",
      "\n",
      "df.info()-----------\n",
      "<class 'pandas.core.frame.DataFrame'>\n",
      "Index: 3 entries, 0008dd29c86ee88a817cea190dad0346 to 00224d1715680e16dfd62703f24dd8c3\n",
      "Data columns (total 5 columns):\n",
      "BirthDay     3 non-null object\n",
      "BirthYear    3 non-null object\n",
      "DeathDay     1 non-null object\n",
      "DeathYear    0 non-null object\n",
      "Record       3 non-null object\n",
      "dtypes: object(5)\n",
      "memory usage: 224.0+ bytes\n"
     ]
    }
   ],
   "source": [
    "print(\"df.dtypes-----------\\n\", df.dtypes, \"\\n\")\n",
    "print(\"df.index-----------\\n\", df.index, \"\\n\")\n",
    "print(\"df.info()-----------\", )\n",
    "df.info()"
   ]
  },
  {
   "cell_type": "code",
   "execution_count": 25,
   "metadata": {},
   "outputs": [
    {
     "data": {
      "text/html": [
       "<div>\n",
       "<style scoped>\n",
       "    .dataframe tbody tr th:only-of-type {\n",
       "        vertical-align: middle;\n",
       "    }\n",
       "\n",
       "    .dataframe tbody tr th {\n",
       "        vertical-align: top;\n",
       "    }\n",
       "\n",
       "    .dataframe thead th {\n",
       "        text-align: right;\n",
       "    }\n",
       "</style>\n",
       "<table border=\"1\" class=\"dataframe\">\n",
       "  <thead>\n",
       "    <tr style=\"text-align: right;\">\n",
       "      <th></th>\n",
       "      <th>BirthDay</th>\n",
       "      <th>BirthYear</th>\n",
       "      <th>DeathDay</th>\n",
       "      <th>DeathYear</th>\n",
       "      <th>Record</th>\n",
       "    </tr>\n",
       "  </thead>\n",
       "  <tbody>\n",
       "    <tr>\n",
       "      <th>00224d1715680e16dfd62703f24dd8c3</th>\n",
       "      <td>195804</td>\n",
       "      <td>1958</td>\n",
       "      <td>2024</td>\n",
       "      <td>NaN</td>\n",
       "      <td>{'1': {'Date': 20110302, 'ICD': [727], 'Op': 1...</td>\n",
       "    </tr>\n",
       "  </tbody>\n",
       "</table>\n",
       "</div>"
      ],
      "text/plain": [
       "                                 BirthDay BirthYear DeathDay DeathYear  \\\n",
       "00224d1715680e16dfd62703f24dd8c3   195804      1958     2024       NaN   \n",
       "\n",
       "                                                                             Record  \n",
       "00224d1715680e16dfd62703f24dd8c3  {'1': {'Date': 20110302, 'ICD': [727], 'Op': 1...  "
      ]
     },
     "execution_count": 25,
     "metadata": {},
     "output_type": "execute_result"
    }
   ],
   "source": [
    "fliter = (df[\"DeathDay\"].isnan())\n",
    "df[fliter]"
   ]
  },
  {
   "cell_type": "code",
   "execution_count": null,
   "metadata": {},
   "outputs": [],
   "source": [
    "df2 = df.loc[['BirthDay', 'BirthYear'],:]\n",
    "print(df2)\n",
    "\n",
    "len(df2)"
   ]
  },
  {
   "cell_type": "code",
   "execution_count": null,
   "metadata": {},
   "outputs": [],
   "source": []
  },
  {
   "cell_type": "code",
   "execution_count": null,
   "metadata": {},
   "outputs": [],
   "source": []
  },
  {
   "cell_type": "markdown",
   "metadata": {},
   "source": [
    "# 參考連結\n",
    "\n",
    "*****\n",
    "[Python3 JSON 数据解析](http://www.runoob.com/python3/python3-json.html)  \n",
    "[Python 讀寫檔案](https://github.com/wtfaha/StudyNote/tree/master/Python)  "
   ]
  }
 ],
 "metadata": {
  "kernelspec": {
   "display_name": "Python 3",
   "language": "python",
   "name": "python3"
  },
  "language_info": {
   "codemirror_mode": {
    "name": "ipython",
    "version": 3
   },
   "file_extension": ".py",
   "mimetype": "text/x-python",
   "name": "python",
   "nbconvert_exporter": "python",
   "pygments_lexer": "ipython3",
   "version": "3.6.5"
  }
 },
 "nbformat": 4,
 "nbformat_minor": 2
}
