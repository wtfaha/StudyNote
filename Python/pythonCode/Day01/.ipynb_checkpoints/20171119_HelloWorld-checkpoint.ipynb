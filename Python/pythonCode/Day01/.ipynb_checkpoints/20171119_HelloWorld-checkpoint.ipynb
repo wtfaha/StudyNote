{
 "cells": [
  {
   "cell_type": "markdown",
   "metadata": {},
   "source": [
    "# Hello World\n",
    "\n",
    "# H01 註解 ---------------------------------------\n",
    "#### 先改成markdown，#越多，字體越小"
   ]
  },
  {
   "cell_type": "code",
   "execution_count": 1,
   "metadata": {},
   "outputs": [
    {
     "name": "stdout",
     "output_type": "stream",
     "text": [
      "Hello World\n"
     ]
    }
   ],
   "source": [
    "print(\"Hello World\")"
   ]
  },
  {
   "cell_type": "markdown",
   "metadata": {},
   "source": [
    " #### \\ 跳脫字元"
   ]
  },
  {
   "cell_type": "code",
   "execution_count": 2,
   "metadata": {},
   "outputs": [
    {
     "name": "stdout",
     "output_type": "stream",
     "text": [
      "Jim's apple pen\n",
      "Jim's apple pen\n"
     ]
    }
   ],
   "source": [
    "print(\"Jim's apple pen\")\n",
    "print('Jim\\'s apple pen') # \\' 跳脫字元"
   ]
  },
  {
   "cell_type": "markdown",
   "metadata": {},
   "source": [
    "\n",
    "# H02 變數 ---------------------------------------\n",
    "#### Python的變數不須事先定義"
   ]
  },
  {
   "cell_type": "code",
   "execution_count": 67,
   "metadata": {},
   "outputs": [
    {
     "name": "stdout",
     "output_type": "stream",
     "text": [
      "Hello World\n",
      "888.123\n"
     ]
    }
   ],
   "source": [
    "# 命名規則 \"a-z\",\"A-z\",\"_\" 且不可為系統保留字\n",
    "a = \"Hello World\"\n",
    "print(a)\n",
    "a = 888.123\n",
    "print(a)"
   ]
  },
  {
   "cell_type": "code",
   "execution_count": 69,
   "metadata": {},
   "outputs": [
    {
     "name": "stdout",
     "output_type": "stream",
     "text": [
      "Hello World\n",
      "HelloWorld\n"
     ]
    }
   ],
   "source": [
    "# 字串 跟+，相連\n",
    "a = \"Hello\"\n",
    "b = \"World\"\n",
    "print(a,b)\n",
    "print(a+b)"
   ]
  },
  {
   "cell_type": "code",
   "execution_count": 11,
   "metadata": {},
   "outputs": [
    {
     "name": "stdout",
     "output_type": "stream",
     "text": [
      "Yo Check it out\n",
      "YoCheck it out\n"
     ]
    }
   ],
   "source": [
    "a,b = \"Yo\", \"Check it out\"\n",
    "print(a,b)\n",
    "print(a+b)"
   ]
  },
  {
   "cell_type": "markdown",
   "metadata": {},
   "source": [
    "\n",
    "# H03 input ---------------------------------------"
   ]
  },
  {
   "cell_type": "markdown",
   "metadata": {},
   "source": [
    "#### input() 會傳回輸入的字串string"
   ]
  },
  {
   "cell_type": "code",
   "execution_count": 14,
   "metadata": {},
   "outputs": [
    {
     "name": "stdout",
     "output_type": "stream",
     "text": [
      "請問您今年貴庚?33歲\n"
     ]
    }
   ],
   "source": [
    "age = input(\"請問您今年貴庚?\")"
   ]
  },
  {
   "cell_type": "code",
   "execution_count": 15,
   "metadata": {},
   "outputs": [
    {
     "name": "stdout",
     "output_type": "stream",
     "text": [
      "33歲\n"
     ]
    }
   ],
   "source": [
    "print(age)"
   ]
  },
  {
   "cell_type": "markdown",
   "metadata": {},
   "source": [
    "#### 查詢變數的型態 type()"
   ]
  },
  {
   "cell_type": "code",
   "execution_count": 16,
   "metadata": {},
   "outputs": [
    {
     "data": {
      "text/plain": [
       "str"
      ]
     },
     "execution_count": 16,
     "metadata": {},
     "output_type": "execute_result"
    }
   ],
   "source": [
    "type(age)"
   ]
  },
  {
   "cell_type": "markdown",
   "metadata": {},
   "source": [
    "\n",
    "# H04 String not list ---------------------------------------"
   ]
  },
  {
   "cell_type": "code",
   "execution_count": 18,
   "metadata": {},
   "outputs": [
    {
     "name": "stdout",
     "output_type": "stream",
     "text": [
      "Jim's apple pen\n"
     ]
    }
   ],
   "source": [
    "S = \"Jim's apple pen\"\n",
    "print(S)"
   ]
  },
  {
   "cell_type": "code",
   "execution_count": 78,
   "metadata": {},
   "outputs": [
    {
     "data": {
      "text/plain": [
       "'Ji'"
      ]
     },
     "execution_count": 78,
     "metadata": {},
     "output_type": "execute_result"
    }
   ],
   "source": [
    "# 0開始\n",
    "# : 包頭不包尾\n",
    "\n",
    "type(S)\n",
    "S[0:2]    "
   ]
  },
  {
   "cell_type": "code",
   "execution_count": 76,
   "metadata": {},
   "outputs": [
    {
     "data": {
      "text/plain": [
       "'e pe'"
      ]
     },
     "execution_count": 76,
     "metadata": {},
     "output_type": "execute_result"
    }
   ],
   "source": [
    "# 負數當作倒數\n",
    "# 頭尾都可以開放\n",
    "\n",
    "S[-5:-1]   "
   ]
  },
  {
   "cell_type": "code",
   "execution_count": 25,
   "metadata": {},
   "outputs": [
    {
     "data": {
      "text/plain": [
       "15"
      ]
     },
     "execution_count": 25,
     "metadata": {},
     "output_type": "execute_result"
    }
   ],
   "source": [
    "# 長度 len()\n",
    "\n",
    "len(S)"
   ]
  },
  {
   "cell_type": "code",
   "execution_count": 79,
   "metadata": {},
   "outputs": [
    {
     "data": {
      "text/plain": [
       "\"Jim's apple pen\""
      ]
     },
     "execution_count": 79,
     "metadata": {},
     "output_type": "execute_result"
    }
   ],
   "source": [
    "#沒數字代表開放(最前面/最後面)\n",
    "\n",
    "S[:]   "
   ]
  },
  {
   "cell_type": "markdown",
   "metadata": {},
   "source": [
    "\n",
    "# 05 Vairables ---------------------------------------"
   ]
  },
  {
   "cell_type": "code",
   "execution_count": 48,
   "metadata": {
    "collapsed": true
   },
   "outputs": [],
   "source": [
    "A = 3      # int\n",
    "B = 1.234  # float\n",
    "C = True   # bool\n",
    "D = \"ok\"   # str"
   ]
  },
  {
   "cell_type": "code",
   "execution_count": 49,
   "metadata": {},
   "outputs": [
    {
     "data": {
      "text/plain": [
       "4"
      ]
     },
     "execution_count": 49,
     "metadata": {},
     "output_type": "execute_result"
    }
   ],
   "source": [
    "A + C"
   ]
  },
  {
   "cell_type": "code",
   "execution_count": 50,
   "metadata": {},
   "outputs": [
    {
     "ename": "TypeError",
     "evalue": "unsupported operand type(s) for +: 'int' and 'str'",
     "output_type": "error",
     "traceback": [
      "\u001b[1;31m---------------------------------------------------------------------------\u001b[0m",
      "\u001b[1;31mTypeError\u001b[0m                                 Traceback (most recent call last)",
      "\u001b[1;32m<ipython-input-50-f1714cbb6618>\u001b[0m in \u001b[0;36m<module>\u001b[1;34m()\u001b[0m\n\u001b[1;32m----> 1\u001b[1;33m \u001b[0mA\u001b[0m \u001b[1;33m+\u001b[0m \u001b[0mD\u001b[0m\u001b[1;33m\u001b[0m\u001b[0m\n\u001b[0m",
      "\u001b[1;31mTypeError\u001b[0m: unsupported operand type(s) for +: 'int' and 'str'"
     ]
    }
   ],
   "source": [
    "A + D"
   ]
  },
  {
   "cell_type": "code",
   "execution_count": 66,
   "metadata": {},
   "outputs": [
    {
     "data": {
      "text/plain": [
       "'3ok'"
      ]
     },
     "execution_count": 66,
     "metadata": {},
     "output_type": "execute_result"
    }
   ],
   "source": [
    "str(A) + D   # str()轉成字串"
   ]
  },
  {
   "cell_type": "code",
   "execution_count": 52,
   "metadata": {},
   "outputs": [
    {
     "data": {
      "text/plain": [
       "'okokok'"
      ]
     },
     "execution_count": 52,
     "metadata": {},
     "output_type": "execute_result"
    }
   ],
   "source": [
    "A * D"
   ]
  },
  {
   "cell_type": "markdown",
   "metadata": {},
   "source": [
    "\n",
    "# 06 算術運算式 ---------------------------------------"
   ]
  },
  {
   "cell_type": "code",
   "execution_count": 75,
   "metadata": {},
   "outputs": [
    {
     "name": "stdout",
     "output_type": "stream",
     "text": [
      "13\n",
      "7\n",
      "30\n",
      "3.3333333333333335\n",
      "-3.3333333333333335\n",
      "1\n",
      "3\n",
      "-4\n",
      "1000\n"
     ]
    }
   ],
   "source": [
    "# + - ** / % // ***\n",
    "\n",
    "print(10+3)\n",
    "print(10-3)\n",
    "print(10*3)\n",
    "print(10/3)\n",
    "print(-10/3)\n",
    "print(10%3)    # %餘數\n",
    "print(10//3)   # //取高斯符號 不大於該數的最大整數\n",
    "print(-10//3)\n",
    "print(10**3)   # 10的3次方"
   ]
  },
  {
   "cell_type": "markdown",
   "metadata": {},
   "source": [
    "\n",
    "# 07 關係式 ---------------------------------------"
   ]
  },
  {
   "cell_type": "code",
   "execution_count": 63,
   "metadata": {},
   "outputs": [
    {
     "name": "stdout",
     "output_type": "stream",
     "text": [
      "True\n",
      "False\n",
      "False\n",
      "True\n"
     ]
    }
   ],
   "source": [
    "# < <= > >= == !=\n",
    "# 會回傳True False\n",
    "\n",
    "print(5>4)\n",
    "print(5==4)\n",
    "print(5<4)\n",
    "print(5!=4)"
   ]
  },
  {
   "cell_type": "markdown",
   "metadata": {},
   "source": [
    "\n",
    "# H08 邏輯運算式 ---------------------------------------"
   ]
  },
  {
   "cell_type": "code",
   "execution_count": 73,
   "metadata": {},
   "outputs": [
    {
     "name": "stdout",
     "output_type": "stream",
     "text": [
      "True, False, False, True, True, False, True\n"
     ]
    }
   ],
   "source": [
    "# and or not\n",
    "a = True and True\n",
    "b = True and False\n",
    "c = False and False\n",
    "d = True or True      # or兩個條件其一成立即可\n",
    "e = True or False\n",
    "f = False or False\n",
    "g = not False\n",
    "\n",
    "print(a, b, c, d, e, f, g, sep=\", \") # sep當作間隔"
   ]
  },
  {
   "cell_type": "markdown",
   "metadata": {},
   "source": [
    "\n",
    "# H09 While ---------------------------------------"
   ]
  },
  {
   "cell_type": "code",
   "execution_count": 81,
   "metadata": {},
   "outputs": [
    {
     "name": "stdout",
     "output_type": "stream",
     "text": [
      "0\n",
      "1\n",
      "2\n"
     ]
    }
   ],
   "source": [
    "aa = 0\n",
    "while aa < 3:\n",
    "    print(aa)\n",
    "    aa = aa + 1"
   ]
  },
  {
   "cell_type": "markdown",
   "metadata": {},
   "source": [
    "\n",
    "# H10 if elif else ---------------------------------------"
   ]
  },
  {
   "cell_type": "code",
   "execution_count": 82,
   "metadata": {},
   "outputs": [
    {
     "name": "stdout",
     "output_type": "stream",
     "text": [
      "x<y\n"
     ]
    }
   ],
   "source": [
    "x, y, z = 3, 9, 6\n",
    "if x < y :\n",
    "    print(\"x<y\")"
   ]
  },
  {
   "cell_type": "code",
   "execution_count": 1,
   "metadata": {},
   "outputs": [
    {
     "name": "stdout",
     "output_type": "stream",
     "text": [
      "請問您今年貴庚12\n",
      "太嫩囉~笑你\n"
     ]
    }
   ],
   "source": [
    "age = input(\"請問您今年貴庚\")\n",
    "if int(age) >= 18 :\n",
    "    print(\"恭喜你可以去看紅衣小女孩2\")\n",
    "else :\n",
    "    print(\"太嫩囉~笑你\")"
   ]
  },
  {
   "cell_type": "markdown",
   "metadata": {},
   "source": [
    "\n",
    "# H11 For ---------------------------------------"
   ]
  },
  {
   "cell_type": "code",
   "execution_count": 14,
   "metadata": {},
   "outputs": [
    {
     "name": "stdout",
     "output_type": "stream",
     "text": [
      "3\n",
      "9\n",
      "555\n",
      "OKOKOK\n",
      "9.42\n",
      "3\n",
      "0\n"
     ]
    }
   ],
   "source": [
    "# for item in sequence:\n",
    "\n",
    "example = [1, 3, \"5\", \"OK\", 3.14, True, False]    # []list\n",
    "for i in example :\n",
    "    print(i*3)"
   ]
  },
  {
   "cell_type": "code",
   "execution_count": 16,
   "metadata": {},
   "outputs": [
    {
     "name": "stdout",
     "output_type": "stream",
     "text": [
      "TTT\n",
      "eee\n",
      "sss\n",
      "ttt\n",
      "   \n",
      "SSS\n",
      "ttt\n",
      "rrr\n"
     ]
    }
   ],
   "source": [
    "ST = \"Test Str\"\n",
    "for i in ST :\n",
    "    print(i*3)"
   ]
  },
  {
   "cell_type": "markdown",
   "metadata": {},
   "source": [
    "\n",
    "# H12 List[] ---------------------------------------"
   ]
  },
  {
   "cell_type": "code",
   "execution_count": 47,
   "metadata": {},
   "outputs": [
    {
     "name": "stdout",
     "output_type": "stream",
     "text": [
      "[1, 3]\n",
      "['5', 'OK', 3.14]\n",
      "5\n",
      "4.140000000000001\n"
     ]
    }
   ],
   "source": [
    "# []=> list\n",
    "# ()=> tuple(裡面東西不能變)\n",
    "# {}=> dic, set\n",
    "\n",
    "example = [1, 3, \"5\", \"OK\", 3.14]    \n",
    "# [] list\n",
    "# 逗點隔開\n",
    "# 順序 從0\n",
    "# 內容不拘\n",
    "\n",
    "print(example[:2])\n",
    "print(example[2:])\n",
    "print(len(example)) # len() 個數\n",
    "print(example[0] + example[-1])"
   ]
  },
  {
   "cell_type": "markdown",
   "metadata": {},
   "source": [
    "#### 檢查有沒有在這個list裡面"
   ]
  },
  {
   "cell_type": "code",
   "execution_count": 50,
   "metadata": {},
   "outputs": [
    {
     "name": "stdout",
     "output_type": "stream",
     "text": [
      "False\n",
      "True\n"
     ]
    }
   ],
   "source": [
    "# in 檢查有沒有在這個list裡面 回傳True False\n",
    "\n",
    "example = [1, 3, \"5\", \"OK\", 3.14]    \n",
    "\n",
    "print(2 in example) \n",
    "print(\"OK\" in example)"
   ]
  },
  {
   "cell_type": "markdown",
   "metadata": {},
   "source": [
    "#### 新增修改刪除"
   ]
  },
  {
   "cell_type": "code",
   "execution_count": 61,
   "metadata": {},
   "outputs": [
    {
     "name": "stdout",
     "output_type": "stream",
     "text": [
      "新增 :  [1, 3, '5', 'OK', 3.14, 8, 9, 10, 11]\n",
      "修改 :  [0, 3, '5', 'OK', 3.14, 8, 9, 10, 11]\n",
      "刪除 :  [3, '5', 'OK', 3.14, 8, 9, 10, 11]\n",
      "刪除全部 :  []\n"
     ]
    }
   ],
   "source": [
    "# 新增\n",
    "# append(), insert(index, value), extend()\n",
    "\n",
    "example = [1, 3, \"5\", \"OK\", 3.14]    \n",
    "\n",
    "example.append(8)\n",
    "example.insert(6,9)\n",
    "example.extend([10, 11])\n",
    "\n",
    "print(\"新增 : \" , example)\n",
    "\n",
    "# 修改\n",
    "example[0] = 0\n",
    "print(\"修改 : \" , example)\n",
    "\n",
    "# 刪除 del\n",
    "del example[0]\n",
    "print(\"刪除 : \" , example)\n",
    "del example[0:]\n",
    "print(\"刪除全部 : \" , example)"
   ]
  },
  {
   "cell_type": "markdown",
   "metadata": {},
   "source": [
    "#### list string差別"
   ]
  },
  {
   "cell_type": "code",
   "execution_count": 60,
   "metadata": {
    "collapsed": true
   },
   "outputs": [],
   "source": [
    "# list 可放各樣的東西，也可以放list\n",
    "# list 可以新增修改裡面東西"
   ]
  },
  {
   "cell_type": "code",
   "execution_count": 64,
   "metadata": {},
   "outputs": [
    {
     "name": "stdout",
     "output_type": "stream",
     "text": [
      "[4, 5, 6]\n",
      "True\n"
     ]
    }
   ],
   "source": [
    "multi_1 = [[1, 2, 3], [4, 5, 6], [7, 8, 9]]\n",
    "print(multi_1[1])\n",
    "print(8 in multi_1[2])"
   ]
  },
  {
   "cell_type": "markdown",
   "metadata": {},
   "source": [
    "# H13 Tuple() ---------------------------------------"
   ]
  },
  {
   "cell_type": "code",
   "execution_count": 67,
   "metadata": {},
   "outputs": [
    {
     "name": "stdout",
     "output_type": "stream",
     "text": [
      "(1, 2, 3)\n",
      "[1, 3, 3]\n"
     ]
    }
   ],
   "source": [
    "# tuple不能修改\n",
    "\n",
    "t = (1, 2, 3)\n",
    "l = [1, 3, 3]\n",
    "print(t)\n",
    "print(l)"
   ]
  },
  {
   "cell_type": "code",
   "execution_count": 69,
   "metadata": {},
   "outputs": [
    {
     "name": "stdout",
     "output_type": "stream",
     "text": [
      "6 8 good\n"
     ]
    }
   ],
   "source": [
    "formatA = \"%s %s %s\"\n",
    "valuesB = (\"6\", \"8\", \"good\")\n",
    "\n",
    "print(formatA % valuesB)"
   ]
  },
  {
   "cell_type": "code",
   "execution_count": 71,
   "metadata": {},
   "outputs": [
    {
     "name": "stdout",
     "output_type": "stream",
     "text": [
      "請輸入年齡12\n",
      "請輸入職業sdf\n",
      "原來您是12歲的sdf\n"
     ]
    }
   ],
   "source": [
    "formatA = \"原來您是%s歲的%s\"\n",
    "age = input(\"請輸入年齡\")\n",
    "c = input(\"請輸入職業\")\n",
    "valuesB = (age, c)\n",
    "print(formatA % valuesB)"
   ]
  },
  {
   "cell_type": "markdown",
   "metadata": {},
   "source": [
    "\n",
    "# H14 dic ---------------------------------------"
   ]
  },
  {
   "cell_type": "markdown",
   "metadata": {},
   "source": [
    "#### {key1:value1, key2:value2}"
   ]
  },
  {
   "cell_type": "code",
   "execution_count": 138,
   "metadata": {},
   "outputs": [
    {
     "name": "stdout",
     "output_type": "stream",
     "text": [
      "星期三\n",
      "<class 'dict'>\n",
      "dict_keys(['Mon', 'Tue', 'Wed'])\n",
      "dict_values(['星期一', '星期二', '星期三'])\n",
      "dict_items([('Mon', '星期一'), ('Tue', '星期二'), ('Wed', '星期三')])\n"
     ]
    }
   ],
   "source": [
    "# dictionary 就是 key-value pair\n",
    "# value可重複，但key值唯一\n",
    "\n",
    "week = {\"Mon\":\"星期一\", \n",
    "        \"Tue\":\"星期二\", \n",
    "        \"Wed\":\"星期三\"}\n",
    "\n",
    "print(week[\"Wed\"])\n",
    "print(type(week))\n",
    "\n",
    "# keys\n",
    "print(week.keys())\n",
    "# values\n",
    "print(week.values())\n",
    "# items 會用tuple裝\n",
    "print(week.items())"
   ]
  },
  {
   "cell_type": "markdown",
   "metadata": {},
   "source": [
    "#### 直接新增、從空白新增"
   ]
  },
  {
   "cell_type": "code",
   "execution_count": 81,
   "metadata": {},
   "outputs": [
    {
     "name": "stdout",
     "output_type": "stream",
     "text": [
      "{'Mon': '星期一', 'Tue': '星期二', 'Wed': '星期三', 'Thur': '星期四'}\n",
      "{'Mon': '周一', 'Fri': '周五'}\n"
     ]
    }
   ],
   "source": [
    "# 直接新增\n",
    "\n",
    "week[\"Thur\"] = \"星期四\"\n",
    "print(week)\n",
    "\n",
    "# 從空白新增\n",
    "\n",
    "week01 = {}\n",
    "week01[\"Mon\"] = \"周一\"\n",
    "week01[\"Fri\"] = \"周五\"\n",
    "print(week01)"
   ]
  },
  {
   "cell_type": "code",
   "execution_count": 131,
   "metadata": {},
   "outputs": [
    {
     "name": "stdout",
     "output_type": "stream",
     "text": [
      "Mon  :  星期一\n",
      "Tue  :  星期二\n",
      "Wed  :  星期三\n"
     ]
    }
   ],
   "source": [
    "for i in week :\n",
    "    print(i , \" : \", week[i])"
   ]
  },
  {
   "cell_type": "markdown",
   "metadata": {},
   "source": [
    "#### 微複雜操作"
   ]
  },
  {
   "cell_type": "code",
   "execution_count": 132,
   "metadata": {},
   "outputs": [
    {
     "name": "stdout",
     "output_type": "stream",
     "text": [
      "{'coin': 50, 'wallet': ['Student ID', 'Keys'], 'backpack': {'book': 2, 'phone': 1, 'NB': 2}}\n"
     ]
    }
   ],
   "source": [
    "inventory = {\n",
    "    \"coin\" : 50,\n",
    "    \"wallet\" : [\"Student ID\", \"Keys\"],\n",
    "    \"backpack\" : {\n",
    "        \"book\" : 2,\n",
    "        \"phone\" : 1,\n",
    "        \"NB\" : 2\n",
    "    }\n",
    "}\n",
    "print(inventory)"
   ]
  },
  {
   "cell_type": "code",
   "execution_count": 133,
   "metadata": {},
   "outputs": [
    {
     "name": "stdout",
     "output_type": "stream",
     "text": [
      "['Student ID', 'Keys']\n",
      "Student ID\n",
      "2\n",
      "['Student ID', 'Keys', 'credit card']\n"
     ]
    }
   ],
   "source": [
    "print(inventory[\"wallet\"])\n",
    "print(inventory[\"wallet\"][0])\n",
    "print(len(inventory[\"wallet\"]))    # 長度\n",
    "\n",
    "inventory[\"wallet\"].append(\"credit card\")    # 新增\n",
    "print(inventory[\"wallet\"])"
   ]
  },
  {
   "cell_type": "code",
   "execution_count": 134,
   "metadata": {},
   "outputs": [
    {
     "name": "stdout",
     "output_type": "stream",
     "text": [
      "{'book': 2, 'phone': 1, 'NB': 2}\n",
      "2\n",
      "3\n",
      "{'book': 2, 'phone': 1, 'NB': 2, 'earphone': 3}\n"
     ]
    }
   ],
   "source": [
    "print(inventory[\"backpack\"])\n",
    "print(inventory[\"backpack\"][\"book\"])\n",
    "print(len(inventory[\"backpack\"]))    # 長度\n",
    "\n",
    "inventory[\"backpack\"][\"earphone\"] = 3    # 新增\n",
    "print(inventory[\"backpack\"])"
   ]
  },
  {
   "cell_type": "code",
   "execution_count": 135,
   "metadata": {},
   "outputs": [
    {
     "name": "stdout",
     "output_type": "stream",
     "text": [
      "{'coin': 100, 'wallet': ['Student ID', 'Keys', 'credit card'], 'backpack': {'book': 2, 'phone': 1, 'NB': 2, 'earphone': 3}}\n"
     ]
    }
   ],
   "source": [
    "inventory[\"coin\"] += 50\n",
    "print(inventory)"
   ]
  },
  {
   "cell_type": "markdown",
   "metadata": {},
   "source": [
    "#### 合併 update()"
   ]
  },
  {
   "cell_type": "code",
   "execution_count": 139,
   "metadata": {},
   "outputs": [
    {
     "name": "stdout",
     "output_type": "stream",
     "text": [
      "{'Mon': '星期一', 'Tue': '星期二', 'Wed': '星期三'}\n",
      "{'Mon': '周一', 'Fri': '周五'}\n",
      "{'Mon': '周一', 'Tue': '星期二', 'Wed': '星期三', 'Fri': '周五'}\n"
     ]
    }
   ],
   "source": [
    "# update()\n",
    "# 合併 week 跟 week01\n",
    "\n",
    "print(week)\n",
    "print(week01)\n",
    "\n",
    "week.update(week01)\n",
    "print(week)"
   ]
  },
  {
   "cell_type": "markdown",
   "metadata": {},
   "source": [
    "\n",
    "# H15 set ---------------------------------------"
   ]
  },
  {
   "cell_type": "markdown",
   "metadata": {},
   "source": [
    "#### set=>{} 不能重複"
   ]
  },
  {
   "cell_type": "code",
   "execution_count": 157,
   "metadata": {},
   "outputs": [
    {
     "name": "stdout",
     "output_type": "stream",
     "text": [
      "{2, 4, 6}\n",
      "[1, 2, 1, 4, 3]\n",
      "{1, 2, 3, 4}\n",
      "{2, 4}\n",
      "{1, 2, 3, 4, 6}\n",
      "{1, 3}\n",
      "{6}\n"
     ]
    }
   ],
   "source": [
    "setA = {2, 4, 6}\n",
    "print(setA)\n",
    "\n",
    "listA = [1, 2, 1, 4, 3]\n",
    "print(listA)\n",
    "\n",
    "# 重複的去掉\n",
    "setB = set(listA)\n",
    "print(setB)\n",
    "\n",
    "# 交集 & 共同有的值\n",
    "print(setB & setA)\n",
    "\n",
    "# 聯集 | 全部出現\n",
    "print(setB | setA)\n",
    "\n",
    "# 差集 - 把有交集的刪掉剩下的\n",
    "print(setB - setA)\n",
    "print(setA - setB)"
   ]
  },
  {
   "cell_type": "markdown",
   "metadata": {},
   "source": [
    "\n",
    "# H16 def the function ---------------------------------------"
   ]
  },
  {
   "cell_type": "markdown",
   "metadata": {},
   "source": [
    "#### def 一個函式"
   ]
  },
  {
   "cell_type": "code",
   "execution_count": 166,
   "metadata": {},
   "outputs": [
    {
     "data": {
      "text/plain": [
       "'呵呵'"
      ]
     },
     "execution_count": 166,
     "metadata": {},
     "output_type": "execute_result"
    }
   ],
   "source": [
    "# 有參數\n",
    "\n",
    "\n",
    "\n",
    "# 沒參數\n",
    "def span() :\n",
    "    return(\"呵呵\")\n",
    "\n",
    "span()"
   ]
  },
  {
   "cell_type": "code",
   "execution_count": 169,
   "metadata": {},
   "outputs": [
    {
     "name": "stdout",
     "output_type": "stream",
     "text": [
      "呵 河三小\n",
      "呵呵 河三小\n"
     ]
    }
   ],
   "source": [
    "def spamm(i=\"呵\"):\n",
    "    return(i+\" 河三小\")\n",
    "\n",
    "print(spamm())    # 沒有給值就是預設值\n",
    "print(spamm(span()))    # 有給值就用給的值"
   ]
  },
  {
   "cell_type": "code",
   "execution_count": 177,
   "metadata": {},
   "outputs": [
    {
     "name": "stdout",
     "output_type": "stream",
     "text": [
      "CB\n",
      "CB\n",
      "AD\n",
      "CD\n",
      "CD\n",
      "AB\n"
     ]
    }
   ],
   "source": [
    "def iniTest(a=\"A\",b=\"B\"):\n",
    "    return(a+b)\n",
    "print(iniTest(\"C\")) # 覆寫第一個參數\n",
    "print(iniTest(\"C\",)) # 覆寫第一個參數\n",
    "\n",
    "# print(iniTest(,\"D\")) # error\n",
    "print(iniTest(b=\"D\")) # 覆寫第二個參數，第一個用預設值\n",
    "print(iniTest(b=\"D\", a=\"C\")) # 不用按照順序給\n",
    "\n",
    "\n",
    "print(iniTest(\"C\",\"D\")) # 覆寫兩個參數\n",
    "\n",
    "# print(iniTest(,)) # error\n",
    "print(iniTest()) # 直接用預設值"
   ]
  },
  {
   "cell_type": "markdown",
   "metadata": {},
   "source": [
    "\n",
    "# H17 牛刀小試"
   ]
  },
  {
   "cell_type": "code",
   "execution_count": 201,
   "metadata": {
    "collapsed": true
   },
   "outputs": [],
   "source": [
    "dic = {\n",
    "    \"Tom\" : 100,\n",
    "    \"Mary\" : 95,\n",
    "    \"Gary\" : 88,\n",
    "    \"Tim\" : 80,\n",
    "    \"Eva\" : 95\n",
    "}"
   ]
  },
  {
   "cell_type": "code",
   "execution_count": 200,
   "metadata": {},
   "outputs": [
    {
     "name": "stdout",
     "output_type": "stream",
     "text": [
      "Gary's score is 88\n",
      "He/She is not in this class\n"
     ]
    }
   ],
   "source": [
    "def check_dic(name):\n",
    "    if name in dic :\n",
    "        print(name + \"\\'s score is\", dic[name])\n",
    "    else :\n",
    "        print(\"He/She is not in this class\")\n",
    "\n",
    "            \n",
    "check_dic(\"Gary\")\n",
    "check_dic(\"sdf\")"
   ]
  },
  {
   "cell_type": "code",
   "execution_count": 199,
   "metadata": {},
   "outputs": [
    {
     "name": "stdout",
     "output_type": "stream",
     "text": [
      "Gary's score is 88\n",
      "He/She is not in this class\n"
     ]
    }
   ],
   "source": [
    "def check_dic01(name):\n",
    "    for i in dic : \n",
    "        if i == name :\n",
    "            print(name + \"\\'s score is\", dic[name])\n",
    "            break\n",
    "    else :\n",
    "        print(\"He/She is not in this class\")\n",
    "check_dic01(\"Gary\")\n",
    "check_dic01(\"sdf\")"
   ]
  },
  {
   "cell_type": "markdown",
   "metadata": {},
   "source": [
    "### 轉型"
   ]
  },
  {
   "cell_type": "code",
   "execution_count": 17,
   "metadata": {
    "collapsed": true
   },
   "outputs": [],
   "source": [
    "# int() 轉成int \n",
    "# str() 轉成字串\n",
    "# set(list) 轉成set"
   ]
  },
  {
   "cell_type": "code",
   "execution_count": null,
   "metadata": {
    "collapsed": true
   },
   "outputs": [],
   "source": []
  }
 ],
 "metadata": {
  "kernelspec": {
   "display_name": "Python 3",
   "language": "python",
   "name": "python3"
  },
  "language_info": {
   "codemirror_mode": {
    "name": "ipython",
    "version": 3
   },
   "file_extension": ".py",
   "mimetype": "text/x-python",
   "name": "python",
   "nbconvert_exporter": "python",
   "pygments_lexer": "ipython3",
   "version": "3.6.3"
  }
 },
 "nbformat": 4,
 "nbformat_minor": 2
}
