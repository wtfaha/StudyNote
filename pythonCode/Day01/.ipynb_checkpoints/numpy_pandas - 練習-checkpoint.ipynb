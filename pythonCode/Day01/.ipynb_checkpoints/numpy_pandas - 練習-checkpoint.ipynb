{
 "cells": [
  {
   "cell_type": "code",
   "execution_count": null,
   "metadata": {
    "collapsed": true
   },
   "outputs": [],
   "source": [
    "# 自行編排版面、排版、加上學號姓名"
   ]
  },
  {
   "cell_type": "code",
   "execution_count": null,
   "metadata": {
    "collapsed": true
   },
   "outputs": [],
   "source": []
  },
  {
   "cell_type": "markdown",
   "metadata": {},
   "source": [
    "### Numpy \n",
    "##### 可使用在矩陣運算、線性代數、矩陣乘法、轉置、數學運算、統計運算...等\n",
    "[連結](https://docs.scipy.org/doc/numpy/reference/routines.html)"
   ]
  },
  {
   "cell_type": "code",
   "execution_count": null,
   "metadata": {
    "collapsed": true
   },
   "outputs": [],
   "source": [
    "# Array 之中的每一個元素都必須是相同型態"
   ]
  },
  {
   "cell_type": "code",
   "execution_count": 6,
   "metadata": {},
   "outputs": [
    {
     "name": "stdout",
     "output_type": "stream",
     "text": [
      "[[1 2 3]\n",
      " [4 5 6]]\n",
      "維度: 2\n",
      "行列: (2, 3)\n",
      "個數: 6\n"
     ]
    }
   ],
   "source": [
    "import numpy as np #使用numpy 採用np簡寫\n",
    "\n",
    "array1 = np.array([1, 2, 3])  #一維的array\n",
    "array2 = np.array([[1, 2, 3], [4, 5, 6]])  #二維的array\n",
    "\n",
    "print(array2)\n",
    "print('維度:',array2.ndim)    # 維度 ndim\n",
    "print('行列:',array2.shape)   # 行列 shape\n",
    "print('個數:',array2.size)    # 個數 size"
   ]
  },
  {
   "cell_type": "code",
   "execution_count": 10,
   "metadata": {},
   "outputs": [
    {
     "name": "stdout",
     "output_type": "stream",
     "text": [
      "[ 3  6  9 12 15 18]\n",
      "[0 1 2 3 4 5]\n",
      "[ 0.  0.  0.  0.  0.  0.]\n",
      "[1 1 1 1 1 1]\n",
      "[ 0.55536256  0.53700397  0.18690707  0.40867526  0.64213237  0.76251668]\n",
      "[ -3  -5  -7  -9 -11 -13]\n",
      "[False False False False  True  True]\n",
      "[False False False  True False False]\n"
     ]
    }
   ],
   "source": [
    "#一維陣列的運算\n",
    "import numpy as np\n",
    "\n",
    "a = np.array([3,6,9,12,15,18])\n",
    "b = np.arange(6) # 0-5\n",
    "c = np.zeros(6) # 數據全為0，6個\n",
    "d = np.ones(6, dtype = np.int) # 數據為1，6個，整數\n",
    "e = np.random.random(6) # 0-1浮點數，6個\n",
    "f = b-a\n",
    "\n",
    "print(a,b,c,d,e,f, sep=\"\\n\")\n",
    "print(f < -9)\n",
    "print(f == -9)"
   ]
  },
  {
   "cell_type": "code",
   "execution_count": 21,
   "metadata": {},
   "outputs": [
    {
     "name": "stdout",
     "output_type": "stream",
     "text": [
      "[[ 3  6  9]\n",
      " [12 15 18]]\n",
      "[[0 1 2]\n",
      " [3 4 5]]\n",
      "[[ 0.  0.  0.]\n",
      " [ 0.  0.  0.]]\n",
      "[[1 1 1]\n",
      " [1 1 1]]\n",
      "[[ 0.35191531  0.90479371  0.72936411]\n",
      " [ 0.69103511  0.6813806   0.27262102]]\n",
      "63\n",
      "[15 21 27]\n",
      "[18 45]\n"
     ]
    }
   ],
   "source": [
    "#多維陣列的運算\n",
    "import numpy as np\n",
    "\n",
    "a = np.array([[3,6,9],[12,15,18]])\n",
    "b = np.arange(6).reshape(2,3) # 一維轉成2X3\n",
    "c = np.zeros((2,3)) # 數據全為0\n",
    "d = np.ones((2,3), dtype = np.int) # 數據為1，6個\n",
    "e = np.random.random((2,3)) #亂數，6個\n",
    "\n",
    "print(a,b,c,d,e, sep=\"\\n\")\n",
    "print(np.sum(a))\n",
    "print(np.sum(a, axis=0)) # 欄位(直)的加總\n",
    "print(np.sum(a, axis=1)) # 欄位(橫)的加總"
   ]
  },
  {
   "cell_type": "code",
   "execution_count": 22,
   "metadata": {},
   "outputs": [
    {
     "name": "stdout",
     "output_type": "stream",
     "text": [
      "[[ 2  4  6]\n",
      " [ 8 10 12]]\n",
      "[[0 1 2]\n",
      " [3 4 5]]\n"
     ]
    }
   ],
   "source": [
    "#加減乘除法 (*非矩陣乘法*)\n",
    "import numpy as np\n",
    "A=np.array([[2,4,6],[8,10,12]])\n",
    "B=np.arange(6).reshape((2,3)) \n",
    "\n",
    "print(A)\n",
    "print(B)"
   ]
  },
  {
   "cell_type": "code",
   "execution_count": 23,
   "metadata": {},
   "outputs": [
    {
     "data": {
      "text/plain": [
       "array([[ 0,  4, 12],\n",
       "       [24, 40, 60]])"
      ]
     },
     "execution_count": 23,
     "metadata": {},
     "output_type": "execute_result"
    }
   ],
   "source": [
    "# AB的加減乘除法\n",
    "A*B"
   ]
  },
  {
   "cell_type": "code",
   "execution_count": 25,
   "metadata": {},
   "outputs": [
    {
     "name": "stdout",
     "output_type": "stream",
     "text": [
      "[[ 2  4  6]\n",
      " [ 8 10 12]]\n",
      "[[0 1 2]\n",
      " [3 4 5]]\n",
      "[[0 3]\n",
      " [1 4]\n",
      " [2 5]]\n"
     ]
    }
   ],
   "source": [
    "# 矩陣乘法\n",
    "import numpy as np\n",
    "a=np.array([[2,4,6],[8,10,12]])\n",
    "b=np.arange(6).reshape((2,3)) \n",
    "\n",
    "print(a)\n",
    "print(b)\n",
    "print(b.T) # transpose\n"
   ]
  },
  {
   "cell_type": "code",
   "execution_count": 26,
   "metadata": {},
   "outputs": [
    {
     "name": "stdout",
     "output_type": "stream",
     "text": [
      "[[ 16  52]\n",
      " [ 34 124]]\n"
     ]
    }
   ],
   "source": [
    "# 矩陣乘法 dot\n",
    "print(np.dot(a,b.T))"
   ]
  },
  {
   "cell_type": "code",
   "execution_count": 27,
   "metadata": {},
   "outputs": [
    {
     "name": "stdout",
     "output_type": "stream",
     "text": [
      "[[1 1 1]\n",
      " [2 2 2]]\n",
      "[1 1 1 2 2 2]\n"
     ]
    }
   ],
   "source": [
    "# array 合併\n",
    "import numpy as np\n",
    "A = np.array([1,1,1])\n",
    "B = np.array([2,2,2])\n",
    "         \n",
    "print(np.vstack((A,B))) #vertical\n",
    "print(np.hstack((A,B))) #horizontal\n"
   ]
  },
  {
   "cell_type": "code",
   "execution_count": 28,
   "metadata": {},
   "outputs": [
    {
     "name": "stdout",
     "output_type": "stream",
     "text": [
      "[[ 0  1  2  3]\n",
      " [ 4  5  6  7]\n",
      " [ 8  9 10 11]]\n",
      "[array([[0, 1, 2, 3]]), array([[4, 5, 6, 7]]), array([[ 8,  9, 10, 11]])]\n",
      "[array([[0, 1],\n",
      "       [4, 5],\n",
      "       [8, 9]]), array([[ 2,  3],\n",
      "       [ 6,  7],\n",
      "       [10, 11]])]\n"
     ]
    }
   ],
   "source": [
    "# array 分割\n",
    "import numpy as np\n",
    "a = np.arange(12).reshape((3,4))\n",
    "print(a)\n",
    "print(np.vsplit(a,3)) #vertical\n",
    "print(np.hsplit(a,2)) #horizontal"
   ]
  },
  {
   "cell_type": "markdown",
   "metadata": {},
   "source": [
    "### Pandas\n",
    "##### Pandas建構於Numpy上，Python做資料分析常⽤的套件\n",
    "- Numpy 是array形式的，沒有欄位名稱或標籤\n",
    "- Pandas 基於Numpy構建的，有列表的標籤。\n"
   ]
  },
  {
   "cell_type": "markdown",
   "metadata": {},
   "source": [
    "##### Series"
   ]
  },
  {
   "cell_type": "code",
   "execution_count": 31,
   "metadata": {},
   "outputs": [
    {
     "name": "stdout",
     "output_type": "stream",
     "text": [
      "0       1\n",
      "1     abc\n",
      "2     NaN\n",
      "3    3.14\n",
      "4    True\n",
      "dtype: object\n"
     ]
    }
   ],
   "source": [
    "# Series是有index的一維array\n",
    "import pandas as pd\n",
    "import numpy as np\n",
    "# 建立一個 Series 有整數、字串、NAN、浮點數、布林\n",
    "s = pd.Series([1, \"abc\", np.nan, 3.14, True])\n",
    "\n",
    "print(s)\n",
    "#如果是numpy的array呢?"
   ]
  },
  {
   "cell_type": "code",
   "execution_count": null,
   "metadata": {
    "collapsed": true
   },
   "outputs": [],
   "source": []
  },
  {
   "cell_type": "markdown",
   "metadata": {},
   "source": [
    "##### DataFrame"
   ]
  },
  {
   "cell_type": "code",
   "execution_count": 32,
   "metadata": {},
   "outputs": [
    {
     "name": "stdout",
     "output_type": "stream",
     "text": [
      "          0         1         2\n",
      "0 -1.182399 -0.237490  2.190763\n",
      "1  0.484016 -1.097223 -0.292731\n",
      "2 -1.980147  0.147527  0.811233\n",
      "3 -1.453207 -3.317705 -0.537000\n",
      "4 -0.050515 -0.465911  1.345593\n",
      "5 -1.165674  1.323694 -0.389824\n",
      "6 -0.492872 -1.582370 -0.555318\n"
     ]
    }
   ],
   "source": [
    "# 生成方式一：用array的矩陣(1)\n",
    "df = pd.DataFrame(np.random.randn(7,3))\n",
    "print(df)"
   ]
  },
  {
   "cell_type": "code",
   "execution_count": 34,
   "metadata": {},
   "outputs": [
    {
     "data": {
      "text/html": [
       "<div>\n",
       "<style>\n",
       "    .dataframe thead tr:only-child th {\n",
       "        text-align: right;\n",
       "    }\n",
       "\n",
       "    .dataframe thead th {\n",
       "        text-align: left;\n",
       "    }\n",
       "\n",
       "    .dataframe tbody tr th {\n",
       "        vertical-align: top;\n",
       "    }\n",
       "</style>\n",
       "<table border=\"1\" class=\"dataframe\">\n",
       "  <thead>\n",
       "    <tr style=\"text-align: right;\">\n",
       "      <th></th>\n",
       "      <th>0</th>\n",
       "      <th>1</th>\n",
       "      <th>2</th>\n",
       "    </tr>\n",
       "  </thead>\n",
       "  <tbody>\n",
       "    <tr>\n",
       "      <th>0</th>\n",
       "      <td>-1.182399</td>\n",
       "      <td>-0.237490</td>\n",
       "      <td>2.190763</td>\n",
       "    </tr>\n",
       "    <tr>\n",
       "      <th>1</th>\n",
       "      <td>0.484016</td>\n",
       "      <td>-1.097223</td>\n",
       "      <td>-0.292731</td>\n",
       "    </tr>\n",
       "    <tr>\n",
       "      <th>2</th>\n",
       "      <td>-1.980147</td>\n",
       "      <td>0.147527</td>\n",
       "      <td>0.811233</td>\n",
       "    </tr>\n",
       "    <tr>\n",
       "      <th>3</th>\n",
       "      <td>-1.453207</td>\n",
       "      <td>-3.317705</td>\n",
       "      <td>-0.537000</td>\n",
       "    </tr>\n",
       "    <tr>\n",
       "      <th>4</th>\n",
       "      <td>-0.050515</td>\n",
       "      <td>-0.465911</td>\n",
       "      <td>1.345593</td>\n",
       "    </tr>\n",
       "    <tr>\n",
       "      <th>5</th>\n",
       "      <td>-1.165674</td>\n",
       "      <td>1.323694</td>\n",
       "      <td>-0.389824</td>\n",
       "    </tr>\n",
       "    <tr>\n",
       "      <th>6</th>\n",
       "      <td>-0.492872</td>\n",
       "      <td>-1.582370</td>\n",
       "      <td>-0.555318</td>\n",
       "    </tr>\n",
       "  </tbody>\n",
       "</table>\n",
       "</div>"
      ],
      "text/plain": [
       "          0         1         2\n",
       "0 -1.182399 -0.237490  2.190763\n",
       "1  0.484016 -1.097223 -0.292731\n",
       "2 -1.980147  0.147527  0.811233\n",
       "3 -1.453207 -3.317705 -0.537000\n",
       "4 -0.050515 -0.465911  1.345593\n",
       "5 -1.165674  1.323694 -0.389824\n",
       "6 -0.492872 -1.582370 -0.555318"
      ]
     },
     "execution_count": 34,
     "metadata": {},
     "output_type": "execute_result"
    }
   ],
   "source": [
    "df"
   ]
  },
  {
   "cell_type": "code",
   "execution_count": 45,
   "metadata": {},
   "outputs": [
    {
     "name": "stdout",
     "output_type": "stream",
     "text": [
      "            早餐  午餐  晚餐\n",
      "2017-10-28  80  55  65\n",
      "2017-10-29  80  50  60\n",
      "2017-10-30  50  70  70\n",
      "2017-10-31  50  75  85\n",
      "2017-11-01  95  95  50\n",
      "2017-11-02  60  65  70\n",
      "2017-11-03  70  50  95\n"
     ]
    }
   ],
   "source": [
    "# 生成方式一：用array的矩陣(2)\n",
    "eat = np.random.randint(10,size=(7,3))*5+50\n",
    "dates = pd.date_range('20171028',periods=7)\n",
    "df0 = pd.DataFrame(eat)\n",
    "#加上欄位\n",
    "df1 = pd.DataFrame(eat, index=dates, columns=['早餐','午餐','晚餐'])\n",
    "print(df1)"
   ]
  },
  {
   "cell_type": "code",
   "execution_count": 37,
   "metadata": {},
   "outputs": [
    {
     "data": {
      "text/html": [
       "<div>\n",
       "<style>\n",
       "    .dataframe thead tr:only-child th {\n",
       "        text-align: right;\n",
       "    }\n",
       "\n",
       "    .dataframe thead th {\n",
       "        text-align: left;\n",
       "    }\n",
       "\n",
       "    .dataframe tbody tr th {\n",
       "        vertical-align: top;\n",
       "    }\n",
       "</style>\n",
       "<table border=\"1\" class=\"dataframe\">\n",
       "  <thead>\n",
       "    <tr style=\"text-align: right;\">\n",
       "      <th></th>\n",
       "      <th>早餐</th>\n",
       "      <th>午餐</th>\n",
       "      <th>晚餐</th>\n",
       "    </tr>\n",
       "  </thead>\n",
       "  <tbody>\n",
       "    <tr>\n",
       "      <th>2017-10-28</th>\n",
       "      <td>85</td>\n",
       "      <td>50</td>\n",
       "      <td>60</td>\n",
       "    </tr>\n",
       "    <tr>\n",
       "      <th>2017-10-29</th>\n",
       "      <td>50</td>\n",
       "      <td>80</td>\n",
       "      <td>95</td>\n",
       "    </tr>\n",
       "    <tr>\n",
       "      <th>2017-10-30</th>\n",
       "      <td>65</td>\n",
       "      <td>85</td>\n",
       "      <td>70</td>\n",
       "    </tr>\n",
       "    <tr>\n",
       "      <th>2017-10-31</th>\n",
       "      <td>70</td>\n",
       "      <td>85</td>\n",
       "      <td>65</td>\n",
       "    </tr>\n",
       "    <tr>\n",
       "      <th>2017-11-01</th>\n",
       "      <td>70</td>\n",
       "      <td>80</td>\n",
       "      <td>85</td>\n",
       "    </tr>\n",
       "    <tr>\n",
       "      <th>2017-11-02</th>\n",
       "      <td>75</td>\n",
       "      <td>50</td>\n",
       "      <td>85</td>\n",
       "    </tr>\n",
       "    <tr>\n",
       "      <th>2017-11-03</th>\n",
       "      <td>60</td>\n",
       "      <td>50</td>\n",
       "      <td>85</td>\n",
       "    </tr>\n",
       "  </tbody>\n",
       "</table>\n",
       "</div>"
      ],
      "text/plain": [
       "            早餐  午餐  晚餐\n",
       "2017-10-28  85  50  60\n",
       "2017-10-29  50  80  95\n",
       "2017-10-30  65  85  70\n",
       "2017-10-31  70  85  65\n",
       "2017-11-01  70  80  85\n",
       "2017-11-02  75  50  85\n",
       "2017-11-03  60  50  85"
      ]
     },
     "execution_count": 37,
     "metadata": {},
     "output_type": "execute_result"
    }
   ],
   "source": [
    "df1"
   ]
  },
  {
   "cell_type": "code",
   "execution_count": 46,
   "metadata": {},
   "outputs": [
    {
     "name": "stdout",
     "output_type": "stream",
     "text": [
      "[[60 70 65]\n",
      " [50 50 65]\n",
      " [50 55 50]\n",
      " [80 70 70]\n",
      " [85 55 65]\n",
      " [60 65 75]\n",
      " [50 75 80]]\n"
     ]
    }
   ],
   "source": [
    "eat = np.random.randint(10,size=(7,3))*5+50\n",
    "print(eat)"
   ]
  },
  {
   "cell_type": "code",
   "execution_count": 47,
   "metadata": {},
   "outputs": [
    {
     "name": "stdout",
     "output_type": "stream",
     "text": [
      "    小數  整數         時間   類別資料\n",
      "0  1.0   3 2017-08-12   test\n",
      "1  1.0   3 2017-08-12  train\n",
      "2  1.0   3 2017-08-12   test\n",
      "3  1.0   3 2017-08-12  train\n"
     ]
    }
   ],
   "source": [
    "#生成方式二，字典方式\n",
    "df2 = pd.DataFrame({'小數' : pd.Series(1,index=list(range(4)),dtype='float32'),\n",
    "                    '整數' : np.array([3] * 4,dtype='int32'),\n",
    "                    '時間' : pd.Timestamp('20170812'),\n",
    "                    '類別資料' : pd.Categorical([\"test\",\"train\",\"test\",\"train\"]),                     \n",
    "                   }) \n",
    "#字典的key代表甚麼? colums name\n",
    "#dtype指定資料格式? Y\n",
    "print(df2)"
   ]
  },
  {
   "cell_type": "code",
   "execution_count": 48,
   "metadata": {},
   "outputs": [
    {
     "data": {
      "text/html": [
       "<div>\n",
       "<style>\n",
       "    .dataframe thead tr:only-child th {\n",
       "        text-align: right;\n",
       "    }\n",
       "\n",
       "    .dataframe thead th {\n",
       "        text-align: left;\n",
       "    }\n",
       "\n",
       "    .dataframe tbody tr th {\n",
       "        vertical-align: top;\n",
       "    }\n",
       "</style>\n",
       "<table border=\"1\" class=\"dataframe\">\n",
       "  <thead>\n",
       "    <tr style=\"text-align: right;\">\n",
       "      <th></th>\n",
       "      <th>小數</th>\n",
       "      <th>整數</th>\n",
       "      <th>時間</th>\n",
       "      <th>類別資料</th>\n",
       "    </tr>\n",
       "  </thead>\n",
       "  <tbody>\n",
       "    <tr>\n",
       "      <th>0</th>\n",
       "      <td>1.0</td>\n",
       "      <td>3</td>\n",
       "      <td>2017-08-12</td>\n",
       "      <td>test</td>\n",
       "    </tr>\n",
       "    <tr>\n",
       "      <th>1</th>\n",
       "      <td>1.0</td>\n",
       "      <td>3</td>\n",
       "      <td>2017-08-12</td>\n",
       "      <td>train</td>\n",
       "    </tr>\n",
       "    <tr>\n",
       "      <th>2</th>\n",
       "      <td>1.0</td>\n",
       "      <td>3</td>\n",
       "      <td>2017-08-12</td>\n",
       "      <td>test</td>\n",
       "    </tr>\n",
       "    <tr>\n",
       "      <th>3</th>\n",
       "      <td>1.0</td>\n",
       "      <td>3</td>\n",
       "      <td>2017-08-12</td>\n",
       "      <td>train</td>\n",
       "    </tr>\n",
       "  </tbody>\n",
       "</table>\n",
       "</div>"
      ],
      "text/plain": [
       "    小數  整數         時間   類別資料\n",
       "0  1.0   3 2017-08-12   test\n",
       "1  1.0   3 2017-08-12  train\n",
       "2  1.0   3 2017-08-12   test\n",
       "3  1.0   3 2017-08-12  train"
      ]
     },
     "execution_count": 48,
     "metadata": {},
     "output_type": "execute_result"
    }
   ],
   "source": [
    "df2"
   ]
  },
  {
   "cell_type": "code",
   "execution_count": 49,
   "metadata": {},
   "outputs": [
    {
     "name": "stdout",
     "output_type": "stream",
     "text": [
      "    小數  整數         時間   類別資料\n",
      "0  1.0   3 2017-08-12   test\n",
      "1  1.0   3 2017-08-12  train\n",
      "2  1.0   3 2017-08-12   test\n",
      "3  1.0   3 2017-08-12  train\n",
      "小數             float32\n",
      "整數               int32\n",
      "時間      datetime64[ns]\n",
      "類別資料          category\n",
      "dtype: object\n",
      "Int64Index([0, 1, 2, 3], dtype='int64')\n",
      "        小數   整數\n",
      "count  4.0  4.0\n",
      "mean   1.0  3.0\n",
      "std    0.0  0.0\n",
      "min    1.0  3.0\n",
      "25%    1.0  3.0\n",
      "50%    1.0  3.0\n",
      "75%    1.0  3.0\n",
      "max    1.0  3.0\n",
      "                        0                    1                    2  \\\n",
      "小數                      1                    1                    1   \n",
      "整數                      3                    3                    3   \n",
      "時間    2017-08-12 00:00:00  2017-08-12 00:00:00  2017-08-12 00:00:00   \n",
      "類別資料                 test                train                 test   \n",
      "\n",
      "                        3  \n",
      "小數                      1  \n",
      "整數                      3  \n",
      "時間    2017-08-12 00:00:00  \n",
      "類別資料                train  \n",
      "    類別資料         時間  整數   小數\n",
      "0   test 2017-08-12   3  1.0\n",
      "1  train 2017-08-12   3  1.0\n",
      "2   test 2017-08-12   3  1.0\n",
      "3  train 2017-08-12   3  1.0\n",
      "    小數  整數         時間   類別資料\n",
      "0  1.0   3 2017-08-12   test\n",
      "2  1.0   3 2017-08-12   test\n",
      "1  1.0   3 2017-08-12  train\n",
      "3  1.0   3 2017-08-12  train\n"
     ]
    }
   ],
   "source": [
    "#DataFrame的屬性\n",
    "print(df2)\n",
    "print(df2.dtypes)\n",
    "print(df2.index) #print(df2.columns), print(df2.values)\n",
    "print(df2.describe()) #有甚麼要注意的呢?\n",
    "\n",
    "print(df2.T)\n",
    "print(df2.sort_index(axis=1, ascending=False))\n",
    "print(df2.sort_values(by='類別資料'))\n"
   ]
  },
  {
   "cell_type": "code",
   "execution_count": 50,
   "metadata": {},
   "outputs": [
    {
     "data": {
      "text/html": [
       "<div>\n",
       "<style>\n",
       "    .dataframe thead tr:only-child th {\n",
       "        text-align: right;\n",
       "    }\n",
       "\n",
       "    .dataframe thead th {\n",
       "        text-align: left;\n",
       "    }\n",
       "\n",
       "    .dataframe tbody tr th {\n",
       "        vertical-align: top;\n",
       "    }\n",
       "</style>\n",
       "<table border=\"1\" class=\"dataframe\">\n",
       "  <thead>\n",
       "    <tr style=\"text-align: right;\">\n",
       "      <th></th>\n",
       "      <th>小數</th>\n",
       "      <th>整數</th>\n",
       "      <th>時間</th>\n",
       "      <th>類別資料</th>\n",
       "    </tr>\n",
       "  </thead>\n",
       "  <tbody>\n",
       "    <tr>\n",
       "      <th>0</th>\n",
       "      <td>1.0</td>\n",
       "      <td>3</td>\n",
       "      <td>2017-08-12</td>\n",
       "      <td>test</td>\n",
       "    </tr>\n",
       "    <tr>\n",
       "      <th>1</th>\n",
       "      <td>1.0</td>\n",
       "      <td>3</td>\n",
       "      <td>2017-08-12</td>\n",
       "      <td>train</td>\n",
       "    </tr>\n",
       "    <tr>\n",
       "      <th>2</th>\n",
       "      <td>1.0</td>\n",
       "      <td>3</td>\n",
       "      <td>2017-08-12</td>\n",
       "      <td>test</td>\n",
       "    </tr>\n",
       "    <tr>\n",
       "      <th>3</th>\n",
       "      <td>1.0</td>\n",
       "      <td>3</td>\n",
       "      <td>2017-08-12</td>\n",
       "      <td>train</td>\n",
       "    </tr>\n",
       "  </tbody>\n",
       "</table>\n",
       "</div>"
      ],
      "text/plain": [
       "    小數  整數         時間   類別資料\n",
       "0  1.0   3 2017-08-12   test\n",
       "1  1.0   3 2017-08-12  train\n",
       "2  1.0   3 2017-08-12   test\n",
       "3  1.0   3 2017-08-12  train"
      ]
     },
     "execution_count": 50,
     "metadata": {},
     "output_type": "execute_result"
    }
   ],
   "source": [
    "df2"
   ]
  },
  {
   "cell_type": "code",
   "execution_count": 51,
   "metadata": {},
   "outputs": [
    {
     "name": "stdout",
     "output_type": "stream",
     "text": [
      "小數             float32\n",
      "整數               int32\n",
      "時間      datetime64[ns]\n",
      "類別資料          category\n",
      "dtype: object\n"
     ]
    }
   ],
   "source": [
    "print(df2.dtypes)"
   ]
  },
  {
   "cell_type": "code",
   "execution_count": 52,
   "metadata": {},
   "outputs": [
    {
     "name": "stdout",
     "output_type": "stream",
     "text": [
      "Int64Index([0, 1, 2, 3], dtype='int64')\n"
     ]
    }
   ],
   "source": [
    "print(df2.index) #print(df2.columns), print(df2.values)"
   ]
  },
  {
   "cell_type": "code",
   "execution_count": 53,
   "metadata": {},
   "outputs": [
    {
     "name": "stdout",
     "output_type": "stream",
     "text": [
      "        小數   整數\n",
      "count  4.0  4.0\n",
      "mean   1.0  3.0\n",
      "std    0.0  0.0\n",
      "min    1.0  3.0\n",
      "25%    1.0  3.0\n",
      "50%    1.0  3.0\n",
      "75%    1.0  3.0\n",
      "max    1.0  3.0\n"
     ]
    }
   ],
   "source": [
    "print(df2.describe()) #有甚麼要注意的呢?"
   ]
  },
  {
   "cell_type": "code",
   "execution_count": 54,
   "metadata": {},
   "outputs": [
    {
     "data": {
      "text/html": [
       "<div>\n",
       "<style>\n",
       "    .dataframe thead tr:only-child th {\n",
       "        text-align: right;\n",
       "    }\n",
       "\n",
       "    .dataframe thead th {\n",
       "        text-align: left;\n",
       "    }\n",
       "\n",
       "    .dataframe tbody tr th {\n",
       "        vertical-align: top;\n",
       "    }\n",
       "</style>\n",
       "<table border=\"1\" class=\"dataframe\">\n",
       "  <thead>\n",
       "    <tr style=\"text-align: right;\">\n",
       "      <th></th>\n",
       "      <th>0</th>\n",
       "      <th>1</th>\n",
       "      <th>2</th>\n",
       "      <th>3</th>\n",
       "    </tr>\n",
       "  </thead>\n",
       "  <tbody>\n",
       "    <tr>\n",
       "      <th>小數</th>\n",
       "      <td>1</td>\n",
       "      <td>1</td>\n",
       "      <td>1</td>\n",
       "      <td>1</td>\n",
       "    </tr>\n",
       "    <tr>\n",
       "      <th>整數</th>\n",
       "      <td>3</td>\n",
       "      <td>3</td>\n",
       "      <td>3</td>\n",
       "      <td>3</td>\n",
       "    </tr>\n",
       "    <tr>\n",
       "      <th>時間</th>\n",
       "      <td>2017-08-12 00:00:00</td>\n",
       "      <td>2017-08-12 00:00:00</td>\n",
       "      <td>2017-08-12 00:00:00</td>\n",
       "      <td>2017-08-12 00:00:00</td>\n",
       "    </tr>\n",
       "    <tr>\n",
       "      <th>類別資料</th>\n",
       "      <td>test</td>\n",
       "      <td>train</td>\n",
       "      <td>test</td>\n",
       "      <td>train</td>\n",
       "    </tr>\n",
       "  </tbody>\n",
       "</table>\n",
       "</div>"
      ],
      "text/plain": [
       "                        0                    1                    2  \\\n",
       "小數                      1                    1                    1   \n",
       "整數                      3                    3                    3   \n",
       "時間    2017-08-12 00:00:00  2017-08-12 00:00:00  2017-08-12 00:00:00   \n",
       "類別資料                 test                train                 test   \n",
       "\n",
       "                        3  \n",
       "小數                      1  \n",
       "整數                      3  \n",
       "時間    2017-08-12 00:00:00  \n",
       "類別資料                train  "
      ]
     },
     "execution_count": 54,
     "metadata": {},
     "output_type": "execute_result"
    }
   ],
   "source": [
    "df2.T"
   ]
  },
  {
   "cell_type": "code",
   "execution_count": 55,
   "metadata": {},
   "outputs": [
    {
     "data": {
      "text/html": [
       "<div>\n",
       "<style>\n",
       "    .dataframe thead tr:only-child th {\n",
       "        text-align: right;\n",
       "    }\n",
       "\n",
       "    .dataframe thead th {\n",
       "        text-align: left;\n",
       "    }\n",
       "\n",
       "    .dataframe tbody tr th {\n",
       "        vertical-align: top;\n",
       "    }\n",
       "</style>\n",
       "<table border=\"1\" class=\"dataframe\">\n",
       "  <thead>\n",
       "    <tr style=\"text-align: right;\">\n",
       "      <th></th>\n",
       "      <th>小數</th>\n",
       "      <th>整數</th>\n",
       "      <th>時間</th>\n",
       "      <th>類別資料</th>\n",
       "    </tr>\n",
       "  </thead>\n",
       "  <tbody>\n",
       "    <tr>\n",
       "      <th>3</th>\n",
       "      <td>1.0</td>\n",
       "      <td>3</td>\n",
       "      <td>2017-08-12</td>\n",
       "      <td>train</td>\n",
       "    </tr>\n",
       "    <tr>\n",
       "      <th>2</th>\n",
       "      <td>1.0</td>\n",
       "      <td>3</td>\n",
       "      <td>2017-08-12</td>\n",
       "      <td>test</td>\n",
       "    </tr>\n",
       "    <tr>\n",
       "      <th>1</th>\n",
       "      <td>1.0</td>\n",
       "      <td>3</td>\n",
       "      <td>2017-08-12</td>\n",
       "      <td>train</td>\n",
       "    </tr>\n",
       "    <tr>\n",
       "      <th>0</th>\n",
       "      <td>1.0</td>\n",
       "      <td>3</td>\n",
       "      <td>2017-08-12</td>\n",
       "      <td>test</td>\n",
       "    </tr>\n",
       "  </tbody>\n",
       "</table>\n",
       "</div>"
      ],
      "text/plain": [
       "    小數  整數         時間   類別資料\n",
       "3  1.0   3 2017-08-12  train\n",
       "2  1.0   3 2017-08-12   test\n",
       "1  1.0   3 2017-08-12  train\n",
       "0  1.0   3 2017-08-12   test"
      ]
     },
     "execution_count": 55,
     "metadata": {},
     "output_type": "execute_result"
    }
   ],
   "source": [
    "df2.sort_index(axis=0, ascending=False)"
   ]
  },
  {
   "cell_type": "code",
   "execution_count": 56,
   "metadata": {},
   "outputs": [
    {
     "data": {
      "text/html": [
       "<div>\n",
       "<style>\n",
       "    .dataframe thead tr:only-child th {\n",
       "        text-align: right;\n",
       "    }\n",
       "\n",
       "    .dataframe thead th {\n",
       "        text-align: left;\n",
       "    }\n",
       "\n",
       "    .dataframe tbody tr th {\n",
       "        vertical-align: top;\n",
       "    }\n",
       "</style>\n",
       "<table border=\"1\" class=\"dataframe\">\n",
       "  <thead>\n",
       "    <tr style=\"text-align: right;\">\n",
       "      <th></th>\n",
       "      <th>小數</th>\n",
       "      <th>整數</th>\n",
       "      <th>時間</th>\n",
       "      <th>類別資料</th>\n",
       "    </tr>\n",
       "  </thead>\n",
       "  <tbody>\n",
       "    <tr>\n",
       "      <th>0</th>\n",
       "      <td>1.0</td>\n",
       "      <td>3</td>\n",
       "      <td>2017-08-12</td>\n",
       "      <td>test</td>\n",
       "    </tr>\n",
       "    <tr>\n",
       "      <th>2</th>\n",
       "      <td>1.0</td>\n",
       "      <td>3</td>\n",
       "      <td>2017-08-12</td>\n",
       "      <td>test</td>\n",
       "    </tr>\n",
       "    <tr>\n",
       "      <th>1</th>\n",
       "      <td>1.0</td>\n",
       "      <td>3</td>\n",
       "      <td>2017-08-12</td>\n",
       "      <td>train</td>\n",
       "    </tr>\n",
       "    <tr>\n",
       "      <th>3</th>\n",
       "      <td>1.0</td>\n",
       "      <td>3</td>\n",
       "      <td>2017-08-12</td>\n",
       "      <td>train</td>\n",
       "    </tr>\n",
       "  </tbody>\n",
       "</table>\n",
       "</div>"
      ],
      "text/plain": [
       "    小數  整數         時間   類別資料\n",
       "0  1.0   3 2017-08-12   test\n",
       "2  1.0   3 2017-08-12   test\n",
       "1  1.0   3 2017-08-12  train\n",
       "3  1.0   3 2017-08-12  train"
      ]
     },
     "execution_count": 56,
     "metadata": {},
     "output_type": "execute_result"
    }
   ],
   "source": [
    "df2.sort_values(by='類別資料')"
   ]
  },
  {
   "cell_type": "code",
   "execution_count": null,
   "metadata": {
    "collapsed": true
   },
   "outputs": [],
   "source": []
  },
  {
   "cell_type": "code",
   "execution_count": 57,
   "metadata": {},
   "outputs": [
    {
     "data": {
      "text/html": [
       "<div>\n",
       "<style>\n",
       "    .dataframe thead tr:only-child th {\n",
       "        text-align: right;\n",
       "    }\n",
       "\n",
       "    .dataframe thead th {\n",
       "        text-align: left;\n",
       "    }\n",
       "\n",
       "    .dataframe tbody tr th {\n",
       "        vertical-align: top;\n",
       "    }\n",
       "</style>\n",
       "<table border=\"1\" class=\"dataframe\">\n",
       "  <thead>\n",
       "    <tr style=\"text-align: right;\">\n",
       "      <th></th>\n",
       "      <th>早餐</th>\n",
       "      <th>午餐</th>\n",
       "      <th>晚餐</th>\n",
       "    </tr>\n",
       "  </thead>\n",
       "  <tbody>\n",
       "    <tr>\n",
       "      <th>2017-10-28</th>\n",
       "      <td>80</td>\n",
       "      <td>55</td>\n",
       "      <td>65</td>\n",
       "    </tr>\n",
       "    <tr>\n",
       "      <th>2017-10-29</th>\n",
       "      <td>80</td>\n",
       "      <td>50</td>\n",
       "      <td>60</td>\n",
       "    </tr>\n",
       "    <tr>\n",
       "      <th>2017-10-30</th>\n",
       "      <td>50</td>\n",
       "      <td>70</td>\n",
       "      <td>70</td>\n",
       "    </tr>\n",
       "    <tr>\n",
       "      <th>2017-10-31</th>\n",
       "      <td>50</td>\n",
       "      <td>75</td>\n",
       "      <td>85</td>\n",
       "    </tr>\n",
       "    <tr>\n",
       "      <th>2017-11-01</th>\n",
       "      <td>95</td>\n",
       "      <td>95</td>\n",
       "      <td>50</td>\n",
       "    </tr>\n",
       "    <tr>\n",
       "      <th>2017-11-02</th>\n",
       "      <td>60</td>\n",
       "      <td>65</td>\n",
       "      <td>70</td>\n",
       "    </tr>\n",
       "    <tr>\n",
       "      <th>2017-11-03</th>\n",
       "      <td>70</td>\n",
       "      <td>50</td>\n",
       "      <td>95</td>\n",
       "    </tr>\n",
       "  </tbody>\n",
       "</table>\n",
       "</div>"
      ],
      "text/plain": [
       "            早餐  午餐  晚餐\n",
       "2017-10-28  80  55  65\n",
       "2017-10-29  80  50  60\n",
       "2017-10-30  50  70  70\n",
       "2017-10-31  50  75  85\n",
       "2017-11-01  95  95  50\n",
       "2017-11-02  60  65  70\n",
       "2017-11-03  70  50  95"
      ]
     },
     "execution_count": 57,
     "metadata": {},
     "output_type": "execute_result"
    }
   ],
   "source": [
    "# Pandas 選擇欄、列數據\n",
    "df1\n",
    "#欄：只要午餐\n",
    "#列：只要前三筆"
   ]
  },
  {
   "cell_type": "code",
   "execution_count": 58,
   "metadata": {},
   "outputs": [
    {
     "data": {
      "text/plain": [
       "2017-10-28    55\n",
       "2017-10-29    50\n",
       "2017-10-30    70\n",
       "2017-10-31    75\n",
       "2017-11-01    95\n",
       "2017-11-02    65\n",
       "2017-11-03    50\n",
       "Freq: D, Name: 午餐, dtype: int32"
      ]
     },
     "execution_count": 58,
     "metadata": {},
     "output_type": "execute_result"
    }
   ],
   "source": [
    "df1[\"午餐\"]"
   ]
  },
  {
   "cell_type": "code",
   "execution_count": null,
   "metadata": {
    "collapsed": true
   },
   "outputs": [],
   "source": [
    "df1[0:5]"
   ]
  },
  {
   "cell_type": "code",
   "execution_count": null,
   "metadata": {
    "collapsed": true
   },
   "outputs": [],
   "source": [
    "# 欄列一起選\n",
    "# select by label\n",
    "print(df1.loc['20171028'])\n",
    "print(df1.loc[:,['早餐','晚餐']])"
   ]
  },
  {
   "cell_type": "code",
   "execution_count": null,
   "metadata": {
    "collapsed": true
   },
   "outputs": [],
   "source": [
    "#select by position\n",
    "print(df1.iloc[3,1])\n",
    "print(df1.iloc[3:5,1:3])"
   ]
  },
  {
   "cell_type": "code",
   "execution_count": null,
   "metadata": {
    "collapsed": true
   },
   "outputs": [],
   "source": [
    "#select by ix\n",
    "print(df1.ix[:3,['午餐','晚餐']])"
   ]
  },
  {
   "cell_type": "code",
   "execution_count": null,
   "metadata": {
    "collapsed": true
   },
   "outputs": [],
   "source": [
    "# 判斷、篩選\n",
    "print(df1[df1.午餐>80])"
   ]
  },
  {
   "cell_type": "code",
   "execution_count": null,
   "metadata": {
    "collapsed": true
   },
   "outputs": [],
   "source": [
    "df1.iloc[2,2] = 195\n",
    "df1.loc['20171102','晚餐'] = 60\n",
    "df1.晚餐[df1.早餐>80] = 40\n",
    "df1.loc['20171029','午餐'] = np.nan\n",
    "\n",
    "print(df1)\n"
   ]
  },
  {
   "cell_type": "code",
   "execution_count": null,
   "metadata": {
    "collapsed": true
   },
   "outputs": [],
   "source": [
    "df1"
   ]
  },
  {
   "cell_type": "code",
   "execution_count": null,
   "metadata": {
    "collapsed": true
   },
   "outputs": [],
   "source": [
    "#完蛋了~~有遺漏值，要怎麼處理?!?!\n",
    "\n",
    "\n"
   ]
  }
 ],
 "metadata": {
  "kernelspec": {
   "display_name": "Python 3",
   "language": "python",
   "name": "python3"
  },
  "language_info": {
   "codemirror_mode": {
    "name": "ipython",
    "version": 3
   },
   "file_extension": ".py",
   "mimetype": "text/x-python",
   "name": "python",
   "nbconvert_exporter": "python",
   "pygments_lexer": "ipython3",
   "version": "3.6.3"
  }
 },
 "nbformat": 4,
 "nbformat_minor": 2
}
